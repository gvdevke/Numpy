{
 "cells": [
  {
   "cell_type": "markdown",
   "id": "9b5fa9ae",
   "metadata": {},
   "source": [
    "# What is NumPy?"
   ]
  },
  {
   "cell_type": "markdown",
   "id": "30b3605d",
   "metadata": {},
   "source": [
    "#### NumPy is a Python library usd for working with arrays.\n",
    "#### It also has functions for working in domain of linear algebra, fourier transform, and matrices.\n",
    "#### NumPy stands for Numerical Python."
   ]
  },
  {
   "cell_type": "markdown",
   "id": "6ab3b7c3",
   "metadata": {},
   "source": [
    "# Why Use NumPy?"
   ]
  },
  {
   "cell_type": "markdown",
   "id": "5ad3f017",
   "metadata": {},
   "source": [
    "#### In Python we have lists that serve the purpose of arrays, but they are slow to process.\n",
    "#### NumPy aims to provide an array object that is up to 50x faster than traditional lists.\n",
    "#### The array object in NumPy is called 'ndarray', it provides a lot of supporting functions that make working with 'ndarray' very easy.\n",
    "#### Arrays are very frequently used in data science, where speed and resources are very important.\n",
    "#### Data science: It is branch of computer science where we study how to store, use and analyze data for deriving information from it."
   ]
  },
  {
   "cell_type": "markdown",
   "id": "6ce044a5",
   "metadata": {},
   "source": [
    "# Why is NumPy Faster than Lists?"
   ]
  },
  {
   "cell_type": "markdown",
   "id": "f7f13461",
   "metadata": {},
   "source": [
    "#### NumPy arrays are stored at one continuous place in memory unlike lists, so processes can access and manipulate them very efficiently.\n",
    "#### This behavior is called locality of references in computer science.\n",
    "#### This is the main reason why NumPy is faster than lists. Also it is optimized to work with latest CPU architectures."
   ]
  },
  {
   "cell_type": "markdown",
   "id": "94c64188",
   "metadata": {},
   "source": [
    "# Import NumPy"
   ]
  },
  {
   "cell_type": "markdown",
   "id": "6a2b93d5",
   "metadata": {},
   "source": [
    "#### Once NumPy is installed, import it in your applications by adding the 'import' keyword."
   ]
  },
  {
   "cell_type": "code",
   "execution_count": 43,
   "id": "ca1a4b43",
   "metadata": {},
   "outputs": [],
   "source": [
    "import numpy"
   ]
  },
  {
   "cell_type": "markdown",
   "id": "3a9a3928",
   "metadata": {},
   "source": [
    "#### Now NumPy is imported and ready to use."
   ]
  },
  {
   "cell_type": "markdown",
   "id": "d0fa6497",
   "metadata": {},
   "source": [
    "## Example:"
   ]
  },
  {
   "cell_type": "code",
   "execution_count": 44,
   "id": "21d3f9dc",
   "metadata": {},
   "outputs": [
    {
     "name": "stdout",
     "output_type": "stream",
     "text": [
      "[1 2 3 4]\n"
     ]
    }
   ],
   "source": [
    "import numpy\n",
    "arr = numpy.array([1,2,3,4])\n",
    "print(arr)"
   ]
  },
  {
   "cell_type": "markdown",
   "id": "36a697ee",
   "metadata": {},
   "source": [
    "# NumPy as np\n",
    "#### NumPy is usually imported under the 'np' alias.\n",
    "#### 'alias':In Python alias are an alternate name for referring to the same thing.\n",
    "#### Create an alias with the 'as' keyword while importing."
   ]
  },
  {
   "cell_type": "code",
   "execution_count": 45,
   "id": "7320cdb4",
   "metadata": {},
   "outputs": [],
   "source": [
    "import numpy as np"
   ]
  },
  {
   "cell_type": "code",
   "execution_count": 46,
   "id": "64ae9070",
   "metadata": {},
   "outputs": [
    {
     "name": "stdout",
     "output_type": "stream",
     "text": [
      "[1 2 3 4]\n"
     ]
    }
   ],
   "source": [
    "arr = np.array([1,2,3,4])\n",
    "print(arr)"
   ]
  },
  {
   "cell_type": "markdown",
   "id": "4945d0e2",
   "metadata": {},
   "source": [
    "# Checking NumPy Version\n",
    "#### The version string is stored under '_ _version_ _' attribute."
   ]
  },
  {
   "cell_type": "code",
   "execution_count": 47,
   "id": "ed4b0574",
   "metadata": {},
   "outputs": [
    {
     "name": "stdout",
     "output_type": "stream",
     "text": [
      "1.21.2\n"
     ]
    }
   ],
   "source": [
    "print(np.__version__)"
   ]
  },
  {
   "cell_type": "markdown",
   "id": "abc25a9d",
   "metadata": {},
   "source": [
    "# NumPy Creating Arrays"
   ]
  },
  {
   "cell_type": "markdown",
   "id": "40d185bd",
   "metadata": {},
   "source": [
    "## Create a NumPy ndarray Object\n",
    "#### NumPy is used to work with arrays.The array object in NumPy is called 'ndarray'.\n",
    "#### We can create a NumPy 'ndarray' object by using the 'array()' function."
   ]
  },
  {
   "cell_type": "code",
   "execution_count": 48,
   "id": "9e18dd4d",
   "metadata": {},
   "outputs": [
    {
     "name": "stdout",
     "output_type": "stream",
     "text": [
      "[1 2 3 4 5]\n",
      "<class 'numpy.ndarray'>\n"
     ]
    }
   ],
   "source": [
    "import numpy as np\n",
    "arr = np.array([1,2,3,4,5])\n",
    "print(arr)\n",
    "print(type(arr))"
   ]
  },
  {
   "cell_type": "markdown",
   "id": "de24e6a5",
   "metadata": {},
   "source": [
    "#### To create an 'ndarray', we can pass a list, tuple or any array-like object into the 'array()' method, and it will be converted into an array 'ndarray'"
   ]
  },
  {
   "cell_type": "markdown",
   "id": "bbd26a1c",
   "metadata": {},
   "source": [
    "#### Use a tuple to create a NumPy array:"
   ]
  },
  {
   "cell_type": "code",
   "execution_count": 49,
   "id": "afdcefb5",
   "metadata": {},
   "outputs": [
    {
     "name": "stdout",
     "output_type": "stream",
     "text": [
      "Create array by using tuple: [1 2 3 4 5]\n"
     ]
    }
   ],
   "source": [
    "arr = np.array((1,2,3,4,5))\n",
    "print('Create array by using tuple:',arr)"
   ]
  },
  {
   "cell_type": "markdown",
   "id": "53ee17df",
   "metadata": {},
   "source": [
    "#### Use a list to create a NumPy array:"
   ]
  },
  {
   "cell_type": "code",
   "execution_count": 50,
   "id": "a7e20c44",
   "metadata": {},
   "outputs": [
    {
     "name": "stdout",
     "output_type": "stream",
     "text": [
      "Create array by using list: [1 2 3 4 5]\n"
     ]
    }
   ],
   "source": [
    "arr = np.array([1,2,3,4,5])\n",
    "print('Create array by using list:',arr)"
   ]
  },
  {
   "cell_type": "markdown",
   "id": "2d2f2928",
   "metadata": {},
   "source": [
    "## Dimensions in Arrays\n",
    "#### A dimensions in arrays is one level of array depth(nested array).\n",
    "#### nested array: are arrays that have arrays as their elements."
   ]
  },
  {
   "cell_type": "markdown",
   "id": "de28cb67",
   "metadata": {},
   "source": [
    "### 0-D Arrays\n",
    "#### 0-D arrays, or Scalars, are the elements in an array. Each value in an array is 0-D array."
   ]
  },
  {
   "cell_type": "code",
   "execution_count": 51,
   "id": "fda2e35c",
   "metadata": {},
   "outputs": [
    {
     "name": "stdout",
     "output_type": "stream",
     "text": [
      "print 0-D array: 42\n"
     ]
    }
   ],
   "source": [
    "arr = np.array(42)\n",
    "print('print 0-D array:',arr)"
   ]
  },
  {
   "cell_type": "markdown",
   "id": "252fb107",
   "metadata": {},
   "source": [
    "### 1-D Arrays\n",
    "#### An array that has 0-D arrays as its elements is called uni-dimensional or 1-D array."
   ]
  },
  {
   "cell_type": "code",
   "execution_count": 52,
   "id": "d97e72ee",
   "metadata": {},
   "outputs": [
    {
     "name": "stdout",
     "output_type": "stream",
     "text": [
      "print 1-D array: [1 2 3 4 5]\n"
     ]
    }
   ],
   "source": [
    "arr = np.array([1,2,3,4,5])\n",
    "print('print 1-D array:',arr)"
   ]
  },
  {
   "cell_type": "markdown",
   "id": "07da3130",
   "metadata": {},
   "source": [
    "### 2-D Arrays\n",
    "#### An array that has 1-D arrays as its elements is called a 2-D array."
   ]
  },
  {
   "cell_type": "code",
   "execution_count": 53,
   "id": "b93080d8",
   "metadata": {},
   "outputs": [
    {
     "name": "stdout",
     "output_type": "stream",
     "text": [
      "print 2-D array: [[10 20  3  0]\n",
      " [50 20 30 40]]\n"
     ]
    }
   ],
   "source": [
    "arr = np.array([[10,20,3,0],[50,20,30,40]])\n",
    "print('print 2-D array:',arr)"
   ]
  },
  {
   "cell_type": "markdown",
   "id": "fec204c3",
   "metadata": {},
   "source": [
    "### 3-D Arrays\n",
    "#### An array that has 2-D arrays as its elements is called a 3-D array."
   ]
  },
  {
   "cell_type": "code",
   "execution_count": 54,
   "id": "5ea0f4b6",
   "metadata": {},
   "outputs": [
    {
     "name": "stdout",
     "output_type": "stream",
     "text": [
      "print 3-D array: [[[10 20  3  0]\n",
      "  [50 20 30 40]\n",
      "  [ 1  2  3  4]\n",
      "  [ 5  6  7  8]]]\n"
     ]
    }
   ],
   "source": [
    "arr = np.array([[[10,20,3,0],[50,20,30,40],[1,2,3,4],[5,6,7,8]]])\n",
    "print('print 3-D array:',arr)"
   ]
  },
  {
   "cell_type": "markdown",
   "id": "6aff4c3b",
   "metadata": {},
   "source": [
    "## Check Number of Dimensions?"
   ]
  },
  {
   "cell_type": "markdown",
   "id": "b40ba063",
   "metadata": {},
   "source": [
    "#### NumPy Arrays provides the 'ndim' attribute that returns an integer that tells us how many dimensions the array have."
   ]
  },
  {
   "cell_type": "code",
   "execution_count": 55,
   "id": "d7577b53",
   "metadata": {},
   "outputs": [
    {
     "name": "stdout",
     "output_type": "stream",
     "text": [
      "print a array: 42\n",
      "print b array: [1 2 3 4]\n",
      "print c array: [[45 55 65 75]\n",
      " [10 20 30 40]]\n",
      "print d array: [[[ 10  20  30  40]\n",
      "  [ 50  60  70  80]\n",
      "  [ 90 100 101 102]]]\n",
      "Dimension of a array: 0\n",
      "Dimension of b array: 1\n",
      "Dimension of c array: 2\n",
      "Dimension of d array: 3\n"
     ]
    }
   ],
   "source": [
    "a = np.array(42)\n",
    "b = np.array([1,2,3,4])\n",
    "c = np.array([[45,55,65,75],[10,20,30,40]])\n",
    "d = np.array([[[10,20,30,40],[50,60,70,80],[90,100,101,102]]])\n",
    "print('print a array:',a)\n",
    "print('print b array:',b)\n",
    "print('print c array:',c)\n",
    "print('print d array:',d)\n",
    "print('Dimension of a array:',a.ndim)\n",
    "print('Dimension of b array:',b.ndim)\n",
    "print('Dimension of c array:',c.ndim)\n",
    "print('Dimension of d array:',d.ndim)"
   ]
  },
  {
   "cell_type": "markdown",
   "id": "9cdd5b06",
   "metadata": {},
   "source": [
    "## Check Number of Dimensions?\n",
    "#### NumPy Arrays provides the 'ndim' attribute that returns an integer that tells us how many dimensions the array have."
   ]
  },
  {
   "cell_type": "code",
   "execution_count": 56,
   "id": "c76915d2",
   "metadata": {},
   "outputs": [
    {
     "name": "stdout",
     "output_type": "stream",
     "text": [
      "Print Array a: 42\n",
      "Print Array b: [1 2 3]\n",
      "Print Array c: [[10 20 30]\n",
      " [80 95 68]]\n",
      "Print Array d: [[[ 5 15 25 35]\n",
      "  [ 9 18 27 36]\n",
      "  [11 22 33 44]]]\n",
      "Dimension of Array a is: 0\n",
      "Dimension of Array b is: 1\n",
      "Dimension of Array c is: 2\n",
      "Dimension of Array d is: 3\n"
     ]
    }
   ],
   "source": [
    "import numpy as np\n",
    "a = np.array(42)\n",
    "b = np.array([1,2,3])\n",
    "c = np.array([[10,20,30],[80,95,68]])\n",
    "d = np. array([[[5,15,25,35],[9,18,27,36],[11,22,33,44]]])\n",
    "print('Print Array a:',a)\n",
    "print('Print Array b:',b)\n",
    "print('Print Array c:',c)\n",
    "print('Print Array d:',d)\n",
    "print('Dimension of Array a is:',a.ndim)\n",
    "print('Dimension of Array b is:',b.ndim)\n",
    "print('Dimension of Array c is:',c.ndim)\n",
    "print('Dimension of Array d is:',d.ndim)"
   ]
  },
  {
   "cell_type": "markdown",
   "id": "a9971fa1",
   "metadata": {},
   "source": [
    "### Higher Dimensional  Arrays\n",
    "#### An Array can have any number of dimensions.\n",
    "#### When the array is created, you can define the number of dimensions by using the 'ndim' argument."
   ]
  },
  {
   "cell_type": "code",
   "execution_count": 57,
   "id": "51b2cde0",
   "metadata": {},
   "outputs": [
    {
     "name": "stdout",
     "output_type": "stream",
     "text": [
      "[[[[[1 2 3 4 5]]]]]\n",
      "Number of dimensions: 5\n"
     ]
    }
   ],
   "source": [
    "arr = np.array([1,2,3,4,5],ndmin=5)\n",
    "print(arr)\n",
    "print('Number of dimensions:',arr.ndim)"
   ]
  },
  {
   "cell_type": "markdown",
   "id": "a4cb09b5",
   "metadata": {},
   "source": [
    "### ndarray.size\n",
    "#### The Total number of elements of the array. This is equal to the product of the elements of shape."
   ]
  },
  {
   "cell_type": "code",
   "execution_count": 58,
   "id": "2a0e8b76",
   "metadata": {},
   "outputs": [
    {
     "name": "stdout",
     "output_type": "stream",
     "text": [
      "size of array a: 1\n",
      "size of array b: 3\n",
      "size of array c: 6\n",
      "size of array d: 12\n"
     ]
    }
   ],
   "source": [
    "a = np.array(42)\n",
    "b = np.array([1,2,3])\n",
    "c = np.array([[10,20,30],[80,95,68]])\n",
    "d = np. array([[[5,15,25,35],[9,18,27,36],[11,22,33,44]]])\n",
    "print('size of array a:',a.size)\n",
    "print('size of array b:',b.size)\n",
    "print('size of array c:',c.size)\n",
    "print('size of array d:',d.size)"
   ]
  },
  {
   "cell_type": "markdown",
   "id": "ca7bb1c2",
   "metadata": {},
   "source": [
    "### len(ndarray)\n",
    "#### It also gives the total elements of the array."
   ]
  },
  {
   "cell_type": "code",
   "execution_count": 59,
   "id": "131ae9c8",
   "metadata": {},
   "outputs": [
    {
     "name": "stdout",
     "output_type": "stream",
     "text": [
      "size of array b: 3\n",
      "size of array c: 2\n",
      "size of array d: 1\n"
     ]
    }
   ],
   "source": [
    "#a = np.array(42)\n",
    "b = np.array([1,2,3])\n",
    "c = np.array([[10,20,30],[80,95,68]])\n",
    "d = np. array([[[5,15,25,35],[9,18,27,36],[11,22,33,44]]])\n",
    "#print('size of array a:',len(a))\n",
    "print('size of array b:',len(b))\n",
    "print('size of array c:',len(c))\n",
    "print('size of array d:',len(d))"
   ]
  },
  {
   "cell_type": "markdown",
   "id": "fc66754a",
   "metadata": {},
   "source": [
    "### ndarray.shape\n",
    "#### It gives the dimensions of array. This is tuple of integers indicating the size of the array in each dimension. For a matrix with n rows and m columns, 'shape' will be(n,m). The length of the shape tuple is therefore the number of axes,'ndim'."
   ]
  },
  {
   "cell_type": "code",
   "execution_count": 60,
   "id": "85c01e73",
   "metadata": {},
   "outputs": [
    {
     "name": "stdout",
     "output_type": "stream",
     "text": [
      "Shape of array a is: ()\n",
      "Shape of array b is: (3,)\n",
      "Shape of array c is: (2, 3)\n",
      "Shape of array d is: (1, 3, 4)\n"
     ]
    }
   ],
   "source": [
    "a = np.array(42)\n",
    "b = np.array([1,2,3])\n",
    "c = np.array([[10,20,30],[80,95,68]])\n",
    "d = np. array([[[5,15,25,35],[9,18,27,36],[11,22,33,44]]])\n",
    "print('Shape of array a is:',a.shape)\n",
    "print('Shape of array b is:',b.shape)\n",
    "print('Shape of array c is:',c.shape)\n",
    "print('Shape of array d is:',d.shape)"
   ]
  },
  {
   "cell_type": "markdown",
   "id": "f6a5e45b",
   "metadata": {},
   "source": [
    "### ndarray.dtype\n",
    "#### An object describing the type of the elements in the array. One can create or specify 'dtype's' using standard Python types. Additionally NumPy provides types of its own.\n",
    "#### numpy.int32, numpy.int16, and numpy.float64 are some examples."
   ]
  },
  {
   "cell_type": "code",
   "execution_count": 61,
   "id": "2cbf8e49",
   "metadata": {},
   "outputs": [
    {
     "name": "stdout",
     "output_type": "stream",
     "text": [
      "dtype of array a is: int32\n",
      "dtype of array b is: int32\n",
      "dtype of array c is: int32\n",
      "dtype of array d is: int32\n"
     ]
    }
   ],
   "source": [
    "a = np.array(42)\n",
    "b = np.array([1,2,3])\n",
    "c = np.array([[10,20,30],[80,95,68]])\n",
    "d = np. array([[[5,15,25,35],[9,18,27,36],[11,22,33,44]]])\n",
    "print('dtype of array a is:',a.dtype)\n",
    "print('dtype of array b is:',b.dtype)\n",
    "print('dtype of array c is:',c.dtype)\n",
    "print('dtype of array d is:',d.dtype)"
   ]
  },
  {
   "cell_type": "markdown",
   "id": "4d03e87f",
   "metadata": {},
   "source": [
    "## How to create array using built-in numpy functions?"
   ]
  },
  {
   "cell_type": "markdown",
   "id": "6fe86788",
   "metadata": {},
   "source": [
    "#### equivalent to range function in python\n",
    "#### arange([start,] stop[, step,], dtype=None)\n",
    "#### Return evenly spaced values within a given interval.\n",
    "#### To create sequence of numbers, NumPy provides the 'arange' function which is analagous to the Python buit-in 'range', but returns an array.\n",
    "\n",
    "### np.arange(n)        #0 to n-1"
   ]
  },
  {
   "cell_type": "code",
   "execution_count": 62,
   "id": "df304b23",
   "metadata": {},
   "outputs": [
    {
     "name": "stdout",
     "output_type": "stream",
     "text": [
      "a Array is: [ 0  1  2  3  4  5  6  7  8  9 10 11 12 13 14]\n"
     ]
    }
   ],
   "source": [
    "a = np.arange(15)\n",
    "print('a Array is:',a)"
   ]
  },
  {
   "cell_type": "code",
   "execution_count": 63,
   "id": "f922cfd0",
   "metadata": {},
   "outputs": [
    {
     "name": "stdout",
     "output_type": "stream",
     "text": [
      "b Array is: [0 1 2 3 4]\n"
     ]
    }
   ],
   "source": [
    "b = np.arange(5)\n",
    "print('b Array is:',b)"
   ]
  },
  {
   "cell_type": "markdown",
   "id": "7877272b",
   "metadata": {},
   "source": [
    "#### Start and Stop"
   ]
  },
  {
   "cell_type": "code",
   "execution_count": 64,
   "id": "e93abc9a",
   "metadata": {},
   "outputs": [
    {
     "name": "stdout",
     "output_type": "stream",
     "text": [
      "a Array is: [ 1  2  3  4  5  6  7  8  9 10 11 12 13 14]\n"
     ]
    }
   ],
   "source": [
    "a = np.arange(1,15)\n",
    "print('a Array is:',a)"
   ]
  },
  {
   "cell_type": "markdown",
   "id": "e0d1ac60",
   "metadata": {},
   "source": [
    "#### Stepping by 2 means will skip 1 element"
   ]
  },
  {
   "cell_type": "code",
   "execution_count": 65,
   "id": "f3fc8083",
   "metadata": {},
   "outputs": [
    {
     "name": "stdout",
     "output_type": "stream",
     "text": [
      "a Array is: [ 1  3  5  7  9 11 13]\n"
     ]
    }
   ],
   "source": [
    "a = np.arange(1,15,2)\n",
    "print('a Array is:',a)"
   ]
  },
  {
   "cell_type": "code",
   "execution_count": 66,
   "id": "79967113",
   "metadata": {},
   "outputs": [
    {
     "name": "stdout",
     "output_type": "stream",
     "text": [
      "a Array is: []\n"
     ]
    }
   ],
   "source": [
    "a = np.arange(1,15,-1)\n",
    "print('a Array is:',a)"
   ]
  },
  {
   "cell_type": "code",
   "execution_count": 67,
   "id": "dfb70f10",
   "metadata": {},
   "outputs": [
    {
     "name": "stdout",
     "output_type": "stream",
     "text": [
      "a Array is: [15 14 13 12 11 10  9  8  7  6  5  4  3  2]\n"
     ]
    }
   ],
   "source": [
    "a = np.arange(15,1,-1)\n",
    "print('a Array is:',a)"
   ]
  },
  {
   "cell_type": "code",
   "execution_count": 68,
   "id": "b79a091c",
   "metadata": {},
   "outputs": [
    {
     "name": "stdout",
     "output_type": "stream",
     "text": [
      "a1 Array is: [0.  0.3 0.6 0.9 1.2 1.5 1.8]\n"
     ]
    }
   ],
   "source": [
    "a1 = np.arange(0,2,0.3) # it returns float arguments\n",
    "print('a1 Array is:',a1)"
   ]
  },
  {
   "cell_type": "markdown",
   "id": "61728d14",
   "metadata": {},
   "source": [
    "### np.linspace()\n",
    "#### When 'arange' is used with floating point argumnets, it is generally not possible to predict the number of elements obtained, due to the finite floating point precision. For this reason, it is usually better to use the function 'linspace' that receives as an argument the number of elements that we want, instead of step:\n",
    "#### In linspace() method stop is inclusive."
   ]
  },
  {
   "cell_type": "code",
   "execution_count": 69,
   "id": "4f189a09",
   "metadata": {},
   "outputs": [
    {
     "name": "stdout",
     "output_type": "stream",
     "text": [
      "a2 Array is: [ 1.          1.28571429  1.57142857  1.85714286  2.14285714  2.42857143\n",
      "  2.71428571  3.          3.28571429  3.57142857  3.85714286  4.14285714\n",
      "  4.42857143  4.71428571  5.          5.28571429  5.57142857  5.85714286\n",
      "  6.14285714  6.42857143  6.71428571  7.          7.28571429  7.57142857\n",
      "  7.85714286  8.14285714  8.42857143  8.71428571  9.          9.28571429\n",
      "  9.57142857  9.85714286 10.14285714 10.42857143 10.71428571 11.\n",
      " 11.28571429 11.57142857 11.85714286 12.14285714 12.42857143 12.71428571\n",
      " 13.         13.28571429 13.57142857 13.85714286 14.14285714 14.42857143\n",
      " 14.71428571 15.        ]\n"
     ]
    }
   ],
   "source": [
    "a2 = np.linspace(1,15)\n",
    "print('a2 Array is:',a2)"
   ]
  },
  {
   "cell_type": "code",
   "execution_count": 70,
   "id": "ddc62812",
   "metadata": {},
   "outputs": [
    {
     "name": "stdout",
     "output_type": "stream",
     "text": [
      "a2 array is: [ 2.          2.16326531  2.32653061  2.48979592  2.65306122  2.81632653\n",
      "  2.97959184  3.14285714  3.30612245  3.46938776  3.63265306  3.79591837\n",
      "  3.95918367  4.12244898  4.28571429  4.44897959  4.6122449   4.7755102\n",
      "  4.93877551  5.10204082  5.26530612  5.42857143  5.59183673  5.75510204\n",
      "  5.91836735  6.08163265  6.24489796  6.40816327  6.57142857  6.73469388\n",
      "  6.89795918  7.06122449  7.2244898   7.3877551   7.55102041  7.71428571\n",
      "  7.87755102  8.04081633  8.20408163  8.36734694  8.53061224  8.69387755\n",
      "  8.85714286  9.02040816  9.18367347  9.34693878  9.51020408  9.67346939\n",
      "  9.83673469 10.        ]\n"
     ]
    }
   ],
   "source": [
    "a2 = np.linspace(2,10)\n",
    "print('a2 array is:',a2)"
   ]
  },
  {
   "cell_type": "code",
   "execution_count": 71,
   "id": "5b300b88",
   "metadata": {},
   "outputs": [
    {
     "name": "stdout",
     "output_type": "stream",
     "text": [
      "a2 array is: [ 2.  4.  6.  8. 10.]\n"
     ]
    }
   ],
   "source": [
    "a2 = np.linspace(2,10,5)\n",
    "print('a2 array is:',a2)"
   ]
  },
  {
   "cell_type": "code",
   "execution_count": 72,
   "id": "cca65266",
   "metadata": {
    "scrolled": true
   },
   "outputs": [
    {
     "name": "stdout",
     "output_type": "stream",
     "text": [
      "a2 array is: [ 2.          2.57142857  3.14285714  3.71428571  4.28571429  4.85714286\n",
      "  5.42857143  6.          6.57142857  7.14285714  7.71428571  8.28571429\n",
      "  8.85714286  9.42857143 10.        ]\n"
     ]
    }
   ],
   "source": [
    "a2 = np.linspace(2,10,15)\n",
    "print('a2 array is:',a2)"
   ]
  },
  {
   "cell_type": "code",
   "execution_count": 73,
   "id": "79d20d90",
   "metadata": {},
   "outputs": [
    {
     "name": "stdout",
     "output_type": "stream",
     "text": [
      "a2 array is: [ 2.          2.05369128  2.10738255  2.16107383  2.2147651   2.26845638\n",
      "  2.32214765  2.37583893  2.4295302   2.48322148  2.53691275  2.59060403\n",
      "  2.6442953   2.69798658  2.75167785  2.80536913  2.8590604   2.91275168\n",
      "  2.96644295  3.02013423  3.0738255   3.12751678  3.18120805  3.23489933\n",
      "  3.2885906   3.34228188  3.39597315  3.44966443  3.5033557   3.55704698\n",
      "  3.61073826  3.66442953  3.71812081  3.77181208  3.82550336  3.87919463\n",
      "  3.93288591  3.98657718  4.04026846  4.09395973  4.14765101  4.20134228\n",
      "  4.25503356  4.30872483  4.36241611  4.41610738  4.46979866  4.52348993\n",
      "  4.57718121  4.63087248  4.68456376  4.73825503  4.79194631  4.84563758\n",
      "  4.89932886  4.95302013  5.00671141  5.06040268  5.11409396  5.16778523\n",
      "  5.22147651  5.27516779  5.32885906  5.38255034  5.43624161  5.48993289\n",
      "  5.54362416  5.59731544  5.65100671  5.70469799  5.75838926  5.81208054\n",
      "  5.86577181  5.91946309  5.97315436  6.02684564  6.08053691  6.13422819\n",
      "  6.18791946  6.24161074  6.29530201  6.34899329  6.40268456  6.45637584\n",
      "  6.51006711  6.56375839  6.61744966  6.67114094  6.72483221  6.77852349\n",
      "  6.83221477  6.88590604  6.93959732  6.99328859  7.04697987  7.10067114\n",
      "  7.15436242  7.20805369  7.26174497  7.31543624  7.36912752  7.42281879\n",
      "  7.47651007  7.53020134  7.58389262  7.63758389  7.69127517  7.74496644\n",
      "  7.79865772  7.85234899  7.90604027  7.95973154  8.01342282  8.06711409\n",
      "  8.12080537  8.17449664  8.22818792  8.28187919  8.33557047  8.38926174\n",
      "  8.44295302  8.4966443   8.55033557  8.60402685  8.65771812  8.7114094\n",
      "  8.76510067  8.81879195  8.87248322  8.9261745   8.97986577  9.03355705\n",
      "  9.08724832  9.1409396   9.19463087  9.24832215  9.30201342  9.3557047\n",
      "  9.40939597  9.46308725  9.51677852  9.5704698   9.62416107  9.67785235\n",
      "  9.73154362  9.7852349   9.83892617  9.89261745  9.94630872 10.        ]\n"
     ]
    }
   ],
   "source": [
    "a2 = np.linspace(2,10,150)\n",
    "print('a2 array is:',a2)"
   ]
  },
  {
   "cell_type": "code",
   "execution_count": 74,
   "id": "222c1ee1",
   "metadata": {},
   "outputs": [
    {
     "name": "stdout",
     "output_type": "stream",
     "text": [
      "a2 array is: [ 2.          2.88888889  3.77777778  4.66666667  5.55555556  6.44444444\n",
      "  7.33333333  8.22222222  9.11111111 10.        ]\n"
     ]
    }
   ],
   "source": [
    "a2 = np.linspace(2,10,10)\n",
    "print('a2 array is:',a2)"
   ]
  },
  {
   "cell_type": "markdown",
   "id": "8adff45b",
   "metadata": {},
   "source": [
    "### stop we want to make exclusive"
   ]
  },
  {
   "cell_type": "code",
   "execution_count": 75,
   "id": "c1daba13",
   "metadata": {},
   "outputs": [
    {
     "name": "stdout",
     "output_type": "stream",
     "text": [
      "arr is: [2.  2.8 3.6 4.4 5.2 6.  6.8 7.6 8.4 9.2]\n"
     ]
    }
   ],
   "source": [
    "arr = np.linspace(2,10,10,endpoint=False)\n",
    "print('arr is:',arr)"
   ]
  },
  {
   "cell_type": "markdown",
   "id": "0f46e385",
   "metadata": {},
   "source": [
    "### To see the stepping between the numbers use retstep"
   ]
  },
  {
   "cell_type": "code",
   "execution_count": 76,
   "id": "fcc4a925",
   "metadata": {},
   "outputs": [
    {
     "name": "stdout",
     "output_type": "stream",
     "text": [
      "arr is: (array([2. , 2.8, 3.6, 4.4, 5.2, 6. , 6.8, 7.6, 8.4, 9.2]), 0.8)\n"
     ]
    }
   ],
   "source": [
    "arr =np.linspace(2,10,10,endpoint=False,retstep=True)\n",
    "print('arr is:',arr)"
   ]
  },
  {
   "cell_type": "code",
   "execution_count": 77,
   "id": "8c63c221",
   "metadata": {},
   "outputs": [
    {
     "name": "stdout",
     "output_type": "stream",
     "text": [
      "arr is: [ 6.  5.  4.  3.  2.  1.  0. -1. -2. -3. -4. -5. -6.]\n"
     ]
    }
   ],
   "source": [
    "arr = np.linspace(6,-6,13)\n",
    "print('arr is:',arr)"
   ]
  },
  {
   "cell_type": "code",
   "execution_count": 78,
   "id": "679374e0",
   "metadata": {},
   "outputs": [
    {
     "name": "stdout",
     "output_type": "stream",
     "text": [
      "arr is: [-6. -5. -4. -3. -2. -1.  0.  1.  2.  3.  4.  5.  6.]\n"
     ]
    }
   ],
   "source": [
    "arr = np.linspace(-6,6,13)\n",
    "print('arr is:',arr)"
   ]
  },
  {
   "cell_type": "code",
   "execution_count": 79,
   "id": "251349c7",
   "metadata": {},
   "outputs": [
    {
     "name": "stdout",
     "output_type": "stream",
     "text": [
      "arr is: [-6 -5 -4 -3 -2 -1  0  1  2  3  4  5  6]\n"
     ]
    }
   ],
   "source": [
    "arr = np.arange(-6,7)\n",
    "print('arr is:',arr)"
   ]
  },
  {
   "cell_type": "code",
   "execution_count": 80,
   "id": "cf0af93c",
   "metadata": {},
   "outputs": [
    {
     "data": {
      "text/plain": [
       "[-6, -5, -4, -3, -2, -1, 0, 1, 2, 3, 4, 5, 6]"
      ]
     },
     "execution_count": 80,
     "metadata": {},
     "output_type": "execute_result"
    }
   ],
   "source": [
    "list(range(-6,7))"
   ]
  },
  {
   "cell_type": "markdown",
   "id": "6e000af2",
   "metadata": {},
   "source": [
    "### np.zeros()\n",
    "#### The function 'zeros' creates an array full of zeros."
   ]
  },
  {
   "cell_type": "code",
   "execution_count": 81,
   "id": "37198fe2",
   "metadata": {},
   "outputs": [
    {
     "name": "stdout",
     "output_type": "stream",
     "text": [
      "a3: [0. 0. 0. 0. 0.]\n"
     ]
    }
   ],
   "source": [
    "a3 = np.zeros(5)\n",
    "print('a3:',a3)"
   ]
  },
  {
   "cell_type": "code",
   "execution_count": 82,
   "id": "5c0f6d49",
   "metadata": {},
   "outputs": [
    {
     "name": "stdout",
     "output_type": "stream",
     "text": [
      "shape of a3: (5,)\n"
     ]
    }
   ],
   "source": [
    "print('shape of a3:',a3.shape)"
   ]
  },
  {
   "cell_type": "code",
   "execution_count": 83,
   "id": "913cce55",
   "metadata": {},
   "outputs": [
    {
     "name": "stdout",
     "output_type": "stream",
     "text": [
      "[[0. 0. 0. 0.]\n",
      " [0. 0. 0. 0.]\n",
      " [0. 0. 0. 0.]]\n"
     ]
    }
   ],
   "source": [
    "a4 = np.zeros((3,4))\n",
    "print(a4)"
   ]
  },
  {
   "cell_type": "code",
   "execution_count": 84,
   "id": "dc2146e4",
   "metadata": {},
   "outputs": [
    {
     "name": "stdout",
     "output_type": "stream",
     "text": [
      "[[0. 0. 0. 0.]\n",
      " [0. 0. 0. 0.]\n",
      " [0. 0. 0. 0.]\n",
      " [0. 0. 0. 0.]]\n"
     ]
    }
   ],
   "source": [
    "a5 = np.zeros((4,4))\n",
    "print(a5)"
   ]
  },
  {
   "cell_type": "markdown",
   "id": "e7798ba1",
   "metadata": {},
   "source": [
    "### np.ones()\n",
    "#### The function 'ones' creates an array full of ones."
   ]
  },
  {
   "cell_type": "code",
   "execution_count": 85,
   "id": "882bc4de",
   "metadata": {},
   "outputs": [
    {
     "name": "stdout",
     "output_type": "stream",
     "text": [
      "a array is: [1. 1. 1. 1. 1.]\n"
     ]
    }
   ],
   "source": [
    "a = np.ones(5)\n",
    "print('a array is:',a)"
   ]
  },
  {
   "cell_type": "code",
   "execution_count": 86,
   "id": "99c6f7d2",
   "metadata": {},
   "outputs": [
    {
     "name": "stdout",
     "output_type": "stream",
     "text": [
      "a Array is: [[1. 1. 1. 1.]\n",
      " [1. 1. 1. 1.]\n",
      " [1. 1. 1. 1.]\n",
      " [1. 1. 1. 1.]]\n"
     ]
    }
   ],
   "source": [
    "a = np.ones((4,4))\n",
    "print('a Array is:',a)"
   ]
  },
  {
   "cell_type": "markdown",
   "id": "31cf0253",
   "metadata": {},
   "source": [
    "### np.empty()\n",
    "#### The function 'empty' creates an array whose initial content is random and depends on the created array is 'float64'."
   ]
  },
  {
   "cell_type": "code",
   "execution_count": 87,
   "id": "808c1509",
   "metadata": {},
   "outputs": [
    {
     "name": "stdout",
     "output_type": "stream",
     "text": [
      "a Array is: [[0. 0. 0. 0.]\n",
      " [0. 0. 0. 0.]\n",
      " [0. 0. 0. 0.]]\n"
     ]
    }
   ],
   "source": [
    "a = np.empty((3,4))\n",
    "print('a Array is:',a)"
   ]
  },
  {
   "cell_type": "code",
   "execution_count": 88,
   "id": "4e80ff26",
   "metadata": {},
   "outputs": [
    {
     "name": "stdout",
     "output_type": "stream",
     "text": [
      "a: [[3.60739285e-313 4.03179200e-313 2.54639495e-313]\n",
      " [8.48798317e-314 2.97079411e-313 2.12199579e-313]\n",
      " [2.54639495e-313 6.36598738e-314 2.97079411e-313]]\n"
     ]
    }
   ],
   "source": [
    "import numpy as np\n",
    "a = np.empty([3,3])\n",
    "print(\"a:\",a)"
   ]
  },
  {
   "cell_type": "markdown",
   "id": "d9af2c14",
   "metadata": {},
   "source": [
    "### np.eye()\n",
    "####  i want diagonal elemts 1 and non diagonal 0's"
   ]
  },
  {
   "cell_type": "code",
   "execution_count": 89,
   "id": "2c7e31ea",
   "metadata": {},
   "outputs": [
    {
     "name": "stdout",
     "output_type": "stream",
     "text": [
      "a Array is: [[1. 0. 0. 0.]\n",
      " [0. 1. 0. 0.]\n",
      " [0. 0. 1. 0.]\n",
      " [0. 0. 0. 1.]]\n"
     ]
    }
   ],
   "source": [
    "a = np.eye((4))\n",
    "print('a Array is:',a)"
   ]
  },
  {
   "cell_type": "markdown",
   "id": "96d92290",
   "metadata": {},
   "source": [
    "#### its same like identity matrix==same no of rows and columns"
   ]
  },
  {
   "cell_type": "code",
   "execution_count": 90,
   "id": "9a9ba6e1",
   "metadata": {},
   "outputs": [
    {
     "name": "stdout",
     "output_type": "stream",
     "text": [
      "a: [[1. 0. 0.]\n",
      " [0. 1. 0.]\n",
      " [0. 0. 1.]\n",
      " [0. 0. 0.]]\n"
     ]
    }
   ],
   "source": [
    "a = np.eye(4,3)\n",
    "print('a:',a)"
   ]
  },
  {
   "cell_type": "markdown",
   "id": "e0d08331",
   "metadata": {},
   "source": [
    "### np.identity()"
   ]
  },
  {
   "cell_type": "markdown",
   "id": "77df7de1",
   "metadata": {},
   "source": [
    "#### Return the identity array."
   ]
  },
  {
   "cell_type": "code",
   "execution_count": 91,
   "id": "2b14afb8",
   "metadata": {},
   "outputs": [
    {
     "name": "stdout",
     "output_type": "stream",
     "text": [
      "a: [[1. 0. 0. 0. 0.]\n",
      " [0. 1. 0. 0. 0.]\n",
      " [0. 0. 1. 0. 0.]\n",
      " [0. 0. 0. 1. 0.]\n",
      " [0. 0. 0. 0. 1.]]\n"
     ]
    }
   ],
   "source": [
    "a = np.identity(5)\n",
    "print('a:',a)"
   ]
  },
  {
   "cell_type": "code",
   "execution_count": 92,
   "id": "9b54a7f2",
   "metadata": {},
   "outputs": [
    {
     "name": "stdout",
     "output_type": "stream",
     "text": [
      "a: [[1. 0. 0. 0. 0. 0. 0.]\n",
      " [0. 1. 0. 0. 0. 0. 0.]\n",
      " [0. 0. 1. 0. 0. 0. 0.]\n",
      " [0. 0. 0. 1. 0. 0. 0.]\n",
      " [0. 0. 0. 0. 1. 0. 0.]\n",
      " [0. 0. 0. 0. 0. 1. 0.]\n",
      " [0. 0. 0. 0. 0. 0. 1.]]\n"
     ]
    }
   ],
   "source": [
    "a = np.identity(7)\n",
    "print('a:',a)"
   ]
  },
  {
   "cell_type": "markdown",
   "id": "c94df787",
   "metadata": {},
   "source": [
    "### np.diagonal()\n",
    "#### It returns the diagonal elements in the array"
   ]
  },
  {
   "cell_type": "code",
   "execution_count": 93,
   "id": "0b5dc335",
   "metadata": {},
   "outputs": [
    {
     "name": "stdout",
     "output_type": "stream",
     "text": [
      "[1. 1. 1. 1. 1. 1. 1.]\n"
     ]
    }
   ],
   "source": [
    "print(a.diagonal())"
   ]
  },
  {
   "cell_type": "markdown",
   "id": "83f461c7",
   "metadata": {},
   "source": [
    "## NumPy Array Indexing"
   ]
  },
  {
   "cell_type": "markdown",
   "id": "e19be6d8",
   "metadata": {},
   "source": [
    "### Access Array Elements\n",
    "#### Array indexing is the same as accessing an array element.\n",
    "#### You can access an array element by referring to its index number.\n",
    "#### The indexes in NumPy arrays start with 0, meaning that the first element has index 0, and the second has index 1 etc."
   ]
  },
  {
   "cell_type": "code",
   "execution_count": 94,
   "id": "e39e87aa",
   "metadata": {},
   "outputs": [
    {
     "name": "stdout",
     "output_type": "stream",
     "text": [
      "arr is: [1 2 3 4]\n",
      "Access second element in array: 2\n"
     ]
    }
   ],
   "source": [
    "arr = np.array([1,2,3,4])\n",
    "print('arr is:',arr)\n",
    "print('Access second element in array:',arr[1])"
   ]
  },
  {
   "cell_type": "markdown",
   "id": "355e1c6b",
   "metadata": {},
   "source": [
    "#### Get third and fourth elements from the following array and add them."
   ]
  },
  {
   "cell_type": "code",
   "execution_count": 95,
   "id": "b6820e89",
   "metadata": {},
   "outputs": [
    {
     "name": "stdout",
     "output_type": "stream",
     "text": [
      "arr is: [1 2 3 4 5]\n",
      "7\n"
     ]
    }
   ],
   "source": [
    "arr = np.array([1,2,3,4,5])\n",
    "print('arr is:',arr)\n",
    "print(arr[2] + arr[3])"
   ]
  },
  {
   "cell_type": "markdown",
   "id": "1c64993f",
   "metadata": {},
   "source": [
    "### Access 2-D Arrays\n",
    "#### To access elements from 2-D arrays we can use comma seperated integers representing the dimension and the index of the element."
   ]
  },
  {
   "cell_type": "code",
   "execution_count": 96,
   "id": "ca5aca21",
   "metadata": {},
   "outputs": [
    {
     "name": "stdout",
     "output_type": "stream",
     "text": [
      "2nd element on 1st dim: 2\n"
     ]
    }
   ],
   "source": [
    "arr = np.array([[1,2,34,5],[10,20,35,45]])\n",
    "print('2nd element on 1st dim:',arr[0,1])"
   ]
  },
  {
   "cell_type": "code",
   "execution_count": 97,
   "id": "78f6d419",
   "metadata": {},
   "outputs": [
    {
     "name": "stdout",
     "output_type": "stream",
     "text": [
      "4th element on 2nd dim: 45\n"
     ]
    }
   ],
   "source": [
    "print('4th element on 2nd dim:',arr[1,3])"
   ]
  },
  {
   "cell_type": "markdown",
   "id": "b0ef9fdb",
   "metadata": {},
   "source": [
    "### Access 3-D Arrays\n",
    "#### To access elements from 3-D arrays we can use comma seperated integers representing the dimensions and the index of the element."
   ]
  },
  {
   "cell_type": "code",
   "execution_count": 98,
   "id": "1a1f83db",
   "metadata": {},
   "outputs": [
    {
     "name": "stdout",
     "output_type": "stream",
     "text": [
      "Third element of the second array of the first array is: 6\n"
     ]
    }
   ],
   "source": [
    "arr = np.array([[[1,2,3],[4,5,6],[7,8,9]]])\n",
    "print('Third element of the second array of the first array is:',arr[0,1,2])"
   ]
  },
  {
   "cell_type": "markdown",
   "id": "bff713d8",
   "metadata": {},
   "source": [
    "### Negative Indexing"
   ]
  },
  {
   "cell_type": "code",
   "execution_count": 99,
   "id": "1cb8cfe2",
   "metadata": {},
   "outputs": [
    {
     "name": "stdout",
     "output_type": "stream",
     "text": [
      "10\n"
     ]
    }
   ],
   "source": [
    "arr = np.array([[1,2,3,4,5],[6,7,8,9,10]])\n",
    "print(arr[1,-1])"
   ]
  },
  {
   "cell_type": "markdown",
   "id": "dcddfade",
   "metadata": {},
   "source": [
    "### np.full()\n",
    "#### numpy.ndarray.fill() method is used to fill the numpy array with scalar value. \n",
    "#### Syntax: ndarray.fill(fill_value)\n",
    "#### Parameters:\n",
    "#### value: All elements of a will be assigned this value."
   ]
  },
  {
   "cell_type": "code",
   "execution_count": 100,
   "id": "2f37edd7",
   "metadata": {},
   "outputs": [
    {
     "name": "stdout",
     "output_type": "stream",
     "text": [
      "arr: [0 1 2 3 4]\n",
      "updated_arr: [0 0 0 0 0]\n"
     ]
    }
   ],
   "source": [
    "arr = np.arange(5)\n",
    "print('arr:',arr)\n",
    "arr.fill(0)\n",
    "print('updated_arr:',arr)"
   ]
  },
  {
   "cell_type": "markdown",
   "id": "2257fa03",
   "metadata": {},
   "source": [
    "### np.full()\n",
    "#### numpy.full(shape, fill_value, dtype = None, order = 'C'): return a new array with the same shape and type as a given array filled with a fill_value.\n",
    "#### Parameter:\n",
    "    #shape : Number of rows\n",
    "    #order : C_contiguous or F_contiguous\n",
    "    #dtype : [optional, float(by_default)] Data\n",
    "    #fill_value : [bool, optional] value to fill in the array."
   ]
  },
  {
   "cell_type": "code",
   "execution_count": 102,
   "id": "0b59f2e6",
   "metadata": {},
   "outputs": [
    {
     "name": "stdout",
     "output_type": "stream",
     "text": [
      "arr: [[67 67]\n",
      " [67 67]]\n"
     ]
    }
   ],
   "source": [
    "arr = np.full([2,2],fill_value=67)\n",
    "print('arr:',arr)"
   ]
  },
  {
   "cell_type": "code",
   "execution_count": 103,
   "id": "2d900de4",
   "metadata": {},
   "outputs": [
    {
     "name": "stdout",
     "output_type": "stream",
     "text": [
      "arr: [['NA' 'NA' 'NA' 'NA']\n",
      " ['NA' 'NA' 'NA' 'NA']\n",
      " ['NA' 'NA' 'NA' 'NA']]\n"
     ]
    }
   ],
   "source": [
    "arr = np.full([3,4],fill_value='NA')\n",
    "print('arr:',arr)"
   ]
  },
  {
   "cell_type": "code",
   "execution_count": 104,
   "id": "7761686f",
   "metadata": {},
   "outputs": [
    {
     "name": "stdout",
     "output_type": "stream",
     "text": [
      "arr is: [[10.1 10.1 10.1 10.1]\n",
      " [10.1 10.1 10.1 10.1]\n",
      " [10.1 10.1 10.1 10.1]\n",
      " [10.1 10.1 10.1 10.1]]\n"
     ]
    }
   ],
   "source": [
    "arr = np.full([4,4],fill_value = 10.1)\n",
    "print('arr is:',arr)"
   ]
  },
  {
   "cell_type": "markdown",
   "id": "e245ffca",
   "metadata": {},
   "source": [
    "### np.random()\n",
    "#### np.random() is one of the function for doing random sampling in numpy. It returns an array of specified shape and fills it with random floats in the half-open interval[0.0,1.0].\n",
    "#### Syntax: numpy.random.random(size=None)\n",
    "#### Parameters : size : [int or tuple of ints, optional]\n",
    "#### Output shape."
   ]
  },
  {
   "cell_type": "code",
   "execution_count": 105,
   "id": "a4a68f70",
   "metadata": {},
   "outputs": [
    {
     "name": "stdout",
     "output_type": "stream",
     "text": [
      "arr: [0.30388717 0.8846453  0.08743744 0.64768312 0.47026942 0.90850775\n",
      " 0.49167411 0.7105198  0.84978827 0.67652523]\n"
     ]
    }
   ],
   "source": [
    "arr = np.random.rand(10)\n",
    "print('arr:',arr)"
   ]
  },
  {
   "cell_type": "code",
   "execution_count": 106,
   "id": "f90a720f",
   "metadata": {},
   "outputs": [
    {
     "name": "stdout",
     "output_type": "stream",
     "text": [
      "arr: [[0.48016031 0.66776859 0.87068637 0.02711626]\n",
      " [0.95064067 0.6230918  0.59975531 0.3724916 ]]\n"
     ]
    }
   ],
   "source": [
    "import numpy as np\n",
    "arr = np.random.rand(2,4)\n",
    "print('arr:',arr)"
   ]
  },
  {
   "cell_type": "code",
   "execution_count": 107,
   "id": "ea056538",
   "metadata": {},
   "outputs": [
    {
     "name": "stdout",
     "output_type": "stream",
     "text": [
      "arr: [[[0.76569429 0.90966626]\n",
      "  [0.52413657 0.95052966]\n",
      "  [0.70889974 0.74448168]]\n",
      "\n",
      " [[0.49231077 0.03420354]\n",
      "  [0.0170826  0.56437731]\n",
      "  [0.329134   0.35762689]]]\n"
     ]
    }
   ],
   "source": [
    "arr = np.random.rand(2,3,2)\n",
    "print('arr:',arr)"
   ]
  },
  {
   "cell_type": "markdown",
   "id": "13cb8cc8",
   "metadata": {},
   "source": [
    "### np.random.randint(value)\n",
    "### np.random.randint(start,stop)\n",
    "### np.random.randint(start,stop,size)\n",
    "    #random int values u needed then use randint\n",
    "    #Return random integers from `low` (inclusive) to `high` (exclusive).\n"
   ]
  },
  {
   "cell_type": "code",
   "execution_count": 108,
   "id": "6e6ce17c",
   "metadata": {},
   "outputs": [
    {
     "name": "stdout",
     "output_type": "stream",
     "text": [
      "arr: 2\n"
     ]
    }
   ],
   "source": [
    "arr = np.random.randint(6)\n",
    "print('arr:',arr)"
   ]
  },
  {
   "cell_type": "code",
   "execution_count": 109,
   "id": "20a9c5fb",
   "metadata": {},
   "outputs": [
    {
     "name": "stdout",
     "output_type": "stream",
     "text": [
      "arr: 2\n"
     ]
    }
   ],
   "source": [
    "arr = np.random.randint(2,4)\n",
    "print('arr:',arr)"
   ]
  },
  {
   "cell_type": "code",
   "execution_count": 110,
   "id": "e6e969b4",
   "metadata": {},
   "outputs": [
    {
     "name": "stdout",
     "output_type": "stream",
     "text": [
      "arr: [5 4 4 4 4 5 4 4 4 4]\n",
      "dim of array: 1\n"
     ]
    }
   ],
   "source": [
    "arr = np.random.randint(4,6,size=10) # 1D Array\n",
    "print('arr:',arr)\n",
    "print('dim of array:',arr.ndim)"
   ]
  },
  {
   "cell_type": "code",
   "execution_count": 111,
   "id": "d8a336d8",
   "metadata": {},
   "outputs": [
    {
     "name": "stdout",
     "output_type": "stream",
     "text": [
      "arr: [[9 5 3 3]\n",
      " [9 6 1 9]\n",
      " [6 5 8 4]\n",
      " [8 3 7 4]]\n",
      "dim of array: 2\n"
     ]
    }
   ],
   "source": [
    "arr = np.random.randint(1,10,size=(4,4)) # 2D Array\n",
    "print('arr:',arr)\n",
    "print('dim of array:',arr.ndim)"
   ]
  },
  {
   "cell_type": "code",
   "execution_count": 112,
   "id": "75719423",
   "metadata": {},
   "outputs": [
    {
     "name": "stdout",
     "output_type": "stream",
     "text": [
      "arr: [[[ 9 11 11]\n",
      "  [11 17 15]]\n",
      "\n",
      " [[10 11 18]\n",
      "  [ 6  8  6]]\n",
      "\n",
      " [[17 13 15]\n",
      "  [10 10 17]]]\n",
      "dim of arr: 3\n"
     ]
    }
   ],
   "source": [
    "arr = np.random.randint(1,20,size=(3,2,3)) # 3D Array\n",
    "print('arr:',arr)\n",
    "print('dim of arr:',arr.ndim)"
   ]
  },
  {
   "cell_type": "markdown",
   "id": "7adfce24",
   "metadata": {},
   "source": [
    "### np.random.randn(value)\n",
    "### np.random.randn(start,stop)\n",
    "### np.random.randn(start,stop,size)\n",
    "#### The numpy.ndarray.randn() function creates an array of specified shape and fills it with random values as per standard normal disribution."
   ]
  },
  {
   "cell_type": "code",
   "execution_count": 113,
   "id": "dd7cd845",
   "metadata": {},
   "outputs": [
    {
     "name": "stdout",
     "output_type": "stream",
     "text": [
      "[-1.31342799 -0.59944742 -0.04034326 -0.8988919   1.40076387  0.55072152\n",
      " -0.35505435 -0.66624171  0.57639423 -2.58528105]\n",
      "dim of arr:\n",
      " 1\n"
     ]
    }
   ],
   "source": [
    "arr = np.random.randn(10) # 1D Array\n",
    "print(arr)\n",
    "print('dim of arr:\\n',arr.ndim)"
   ]
  },
  {
   "cell_type": "code",
   "execution_count": 114,
   "id": "eee0ef83",
   "metadata": {},
   "outputs": [
    {
     "name": "stdout",
     "output_type": "stream",
     "text": [
      "arr: [[-0.73524661  0.13441463 -0.06711689  2.23268325 -0.79711702  0.4068883\n",
      "  -0.35482468 -0.09278999 -0.61676804  0.11558806]]\n",
      "dim of arr:\n",
      " 2\n"
     ]
    }
   ],
   "source": [
    "arr = np.random.randn(1,10) # 2D Array\n",
    "print('arr:',arr)\n",
    "print('dim of arr:\\n',arr.ndim)"
   ]
  },
  {
   "cell_type": "code",
   "execution_count": 115,
   "id": "adeb3918",
   "metadata": {},
   "outputs": [
    {
     "name": "stdout",
     "output_type": "stream",
     "text": [
      "arr: [[[-2.42902711 -1.37678681]\n",
      "  [-0.59325735  0.55792864]]\n",
      "\n",
      " [[-0.50528958  1.128243  ]\n",
      "  [-0.186724   -0.52185934]]]\n",
      "dim of arr:\n",
      " 3\n"
     ]
    }
   ],
   "source": [
    "arr = np.random.randn(2,2,2) # 3D Array\n",
    "print('arr:',arr)\n",
    "print('dim of arr:\\n',arr.ndim)"
   ]
  },
  {
   "cell_type": "markdown",
   "id": "59fa773d",
   "metadata": {},
   "source": [
    "### Manipulation with randomly created array"
   ]
  },
  {
   "cell_type": "code",
   "execution_count": 116,
   "id": "7570f6dd",
   "metadata": {},
   "outputs": [
    {
     "name": "stdout",
     "output_type": "stream",
     "text": [
      "3D Array filled with random values:\n",
      " [[[ 1.36157042  0.81870217]\n",
      "  [-3.31200992  2.46616809]]\n",
      "\n",
      " [[ 1.30381905 -1.64424436]\n",
      "  [-0.65336804  1.93547919]]]\n"
     ]
    }
   ],
   "source": [
    "array = np.random.randn(2,2,2)\n",
    "print('3D Array filled with random values:\\n',array * 3) # Multiplying values with 3"
   ]
  },
  {
   "cell_type": "code",
   "execution_count": null,
   "id": "87d4ae37",
   "metadata": {},
   "outputs": [],
   "source": [
    "array = np.random.randn(2,2,2) * 3 # Multiplying values with 3\n",
    "print('3D Array filled with random floats values:\\n',array) "
   ]
  },
  {
   "cell_type": "code",
   "execution_count": null,
   "id": "aaedbd62",
   "metadata": {},
   "outputs": [],
   "source": [
    "array = np.random.randn(2,2,2) * 3 + 2 # Multiplying values with 3 and add values 2\n",
    "print('3D Array filled with random floats values:\\n',array) "
   ]
  },
  {
   "cell_type": "markdown",
   "id": "e8f91444",
   "metadata": {},
   "source": [
    "### np.random.random(values)\n",
    "### np.random.random(start,stop)\n",
    "### np.random.random(start,stop,size)"
   ]
  },
  {
   "cell_type": "code",
   "execution_count": 117,
   "id": "256dcf61",
   "metadata": {},
   "outputs": [
    {
     "name": "stdout",
     "output_type": "stream",
     "text": [
      "1D Array filled with random floats values:\n",
      " [0.01509531 0.77654168 0.67092344 0.7779956  0.45618217 0.364911\n",
      " 0.05875023 0.33623356 0.43759593 0.91313775]\n"
     ]
    }
   ],
   "source": [
    "arr = np.random.random(10) # 1D Array\n",
    "print('1D Array filled with random floats values:\\n',arr)"
   ]
  },
  {
   "cell_type": "code",
   "execution_count": 118,
   "id": "7ea76841",
   "metadata": {},
   "outputs": [
    {
     "name": "stdout",
     "output_type": "stream",
     "text": [
      "2D Array filled with random floats values:\n",
      " [[0.70649706 0.86911056 0.57179558 0.86764937 0.8972936  0.70452367\n",
      "  0.16578616 0.14653955 0.66272228 0.29952883]]\n"
     ]
    }
   ],
   "source": [
    "arr = np.random.random(size=(1,10)) # 2D Array\n",
    "print('2D Array filled with random floats values:\\n',arr)"
   ]
  },
  {
   "cell_type": "code",
   "execution_count": 119,
   "id": "9de53598",
   "metadata": {},
   "outputs": [
    {
     "name": "stdout",
     "output_type": "stream",
     "text": [
      "3D Array filled with random floats values:\n",
      " [[[0.66675261 0.44888468 0.84691036]\n",
      "  [0.49629865 0.0224623  0.40994711]\n",
      "  [0.86521936 0.98932429 0.94727296]]\n",
      "\n",
      " [[0.6989934  0.91409045 0.31474785]\n",
      "  [0.94988834 0.4227927  0.45647321]\n",
      "  [0.10039218 0.03721692 0.70276184]]]\n"
     ]
    }
   ],
   "source": [
    "arr = np.random.random(size=(2,3,3)) # 3D Array\n",
    "print('3D Array filled with random floats values:\\n',arr)"
   ]
  },
  {
   "cell_type": "markdown",
   "id": "d523b54d",
   "metadata": {},
   "source": [
    "### np.random.random_integers()\n",
    "#### numpy.random.random_integers() is one of the function for doing random sampling in numpy. It returns an array of specified shape and fills it with random integers from low(inclusive) to high(exclusive), i.e. in the interval [ low, high ]\n",
    "#### Syntax: numpy.radom.random_intergers(low, high=None, size=None)\n",
    "#### Parameters:\n",
    "    #low : [int] Lowest(signed) integer to be drawn from the distribution.But,             it works as a highest integer in the sample if high=None.\n",
    "    #high : [int, optional] Largest(signed) integer to be drawn from the                    distribution.\n",
    "    #size : [int or tuple of ints, optional] Output shape. If the given shape              is, e.g.,(m,n,k), then m*n*k samples are drawn. Default is None, in            which case a single value is returned. \n",
    "    #return: Array of random integers in the interval[low, high] or a single                such random int if size not provided.  "
   ]
  },
  {
   "cell_type": "code",
   "execution_count": 120,
   "id": "f3cc837b",
   "metadata": {},
   "outputs": [
    {
     "name": "stdout",
     "output_type": "stream",
     "text": [
      "1D Array filling random values:\n",
      " [3 2 3 2]\n"
     ]
    },
    {
     "name": "stderr",
     "output_type": "stream",
     "text": [
      "C:\\Users\\DEVKE_~1\\AppData\\Local\\Temp/ipykernel_6940/1914989384.py:1: DeprecationWarning: This function is deprecated. Please call randint(0, 5 + 1) instead\n",
      "  array = np.random.random_integers(low = 0, high = 5, size = 4)\n"
     ]
    }
   ],
   "source": [
    "array = np.random.random_integers(low = 0, high = 5, size = 4) # 1D Array\n",
    "print('1D Array filling random values:\\n',array)"
   ]
  },
  {
   "cell_type": "code",
   "execution_count": 121,
   "id": "a44687e8",
   "metadata": {},
   "outputs": [
    {
     "name": "stdout",
     "output_type": "stream",
     "text": [
      "2D Array filling random values:\n",
      " [[2 1 4 1]\n",
      " [5 3 0 2]\n",
      " [4 0 4 0]\n",
      " [3 2 5 0]]\n"
     ]
    },
    {
     "name": "stderr",
     "output_type": "stream",
     "text": [
      "C:\\Users\\DEVKE_~1\\AppData\\Local\\Temp/ipykernel_6940/2585859813.py:1: DeprecationWarning: This function is deprecated. Please call randint(0, 5 + 1) instead\n",
      "  array = np.random.random_integers(low = 0, high = 5, size = (4,4))\n"
     ]
    }
   ],
   "source": [
    "array = np.random.random_integers(low = 0, high = 5, size = (4,4)) # 2D Array\n",
    "print('2D Array filling random values:\\n',array)"
   ]
  },
  {
   "cell_type": "code",
   "execution_count": 122,
   "id": "d82bc12c",
   "metadata": {},
   "outputs": [
    {
     "name": "stdout",
     "output_type": "stream",
     "text": [
      "3D Array filling random values:\n",
      " [[[4 0]\n",
      "  [4 3]\n",
      "  [2 2]]\n",
      "\n",
      " [[1 5]\n",
      "  [0 5]\n",
      "  [3 0]]]\n"
     ]
    },
    {
     "name": "stderr",
     "output_type": "stream",
     "text": [
      "C:\\Users\\DEVKE_~1\\AppData\\Local\\Temp/ipykernel_6940/3230428309.py:1: DeprecationWarning: This function is deprecated. Please call randint(0, 5 + 1) instead\n",
      "  array = np.random.random_integers(low = 0, high = 5, size = (2,3,2))\n"
     ]
    }
   ],
   "source": [
    "array = np.random.random_integers(low = 0, high = 5, size = (2,3,2))\n",
    "print('3D Array filling random values:\\n',array)"
   ]
  },
  {
   "cell_type": "markdown",
   "id": "9f7d6396",
   "metadata": {},
   "source": [
    "### np.random.random_sample()\n",
    "#### numpy.random.random_sample() is one of the function for doing random sampling in numpy It returns an array of specified shape and fills it with randm floats it with random floats in the half-open interval [ 0.0, 1.0).\n",
    "#### Syntax: numpy.random.random_sample(size = None)"
   ]
  },
  {
   "cell_type": "code",
   "execution_count": 130,
   "id": "ebdc5b07",
   "metadata": {},
   "outputs": [
    {
     "name": "stdout",
     "output_type": "stream",
     "text": [
      "Output random float value:\n",
      " 0.14911933636726638\n"
     ]
    }
   ],
   "source": [
    "arr = np.random.random_sample()\n",
    "print('Output random float value:\\n',arr)"
   ]
  },
  {
   "cell_type": "code",
   "execution_count": 129,
   "id": "b124c2d2",
   "metadata": {},
   "outputs": [
    {
     "name": "stdout",
     "output_type": "stream",
     "text": [
      "Output 1D Array random float value:\n",
      " [0.8859242  0.4252503  0.80540984 0.38615435 0.97415977 0.8078116\n",
      " 0.5262403  0.39513815 0.87919587 0.66348637]\n"
     ]
    }
   ],
   "source": [
    "arr = np.random.random_sample(10) # 1D Array\n",
    "print('Output 1D Array random float value:\\n',arr)"
   ]
  },
  {
   "cell_type": "code",
   "execution_count": 128,
   "id": "c20ab71a",
   "metadata": {},
   "outputs": [
    {
     "name": "stdout",
     "output_type": "stream",
     "text": [
      "Output 2D Array random float value:\n",
      " [[0.29347715 0.79728354 0.22286117 0.59487485 0.65100221 0.41376438\n",
      "  0.81929997 0.00241493 0.84304403 0.91671677 0.71563837 0.56649128\n",
      "  0.80323437 0.31029143 0.06009496]\n",
      " [0.74156118 0.98894373 0.15953199 0.05004941 0.1605994  0.06843747\n",
      "  0.97333625 0.83344015 0.94006086 0.52050864 0.03257288 0.044955\n",
      "  0.60449746 0.97036778 0.07157347]\n",
      " [0.31959172 0.70498125 0.4252257  0.5780254  0.6166321  0.26910394\n",
      "  0.80998057 0.04506767 0.3553226  0.13529006 0.07063944 0.56585087\n",
      "  0.23430267 0.57282547 0.39064409]\n",
      " [0.51508231 0.19654528 0.08783776 0.52795073 0.10763083 0.68880164\n",
      "  0.16957442 0.16232746 0.21968412 0.2314187  0.30395005 0.62291736\n",
      "  0.19473888 0.69942586 0.62807108]\n",
      " [0.45061952 0.75582154 0.92237104 0.17385007 0.73105896 0.56091676\n",
      "  0.99387006 0.50916949 0.85014928 0.42415043 0.40655379 0.37682513\n",
      "  0.79837297 0.51147922 0.52821023]]\n"
     ]
    }
   ],
   "source": [
    "arr = np.random.random_sample(size=(5,15))\n",
    "print('Output 2D Array random float value:\\n',arr)"
   ]
  },
  {
   "cell_type": "code",
   "execution_count": 133,
   "id": "825dfa87",
   "metadata": {},
   "outputs": [
    {
     "name": "stdout",
     "output_type": "stream",
     "text": [
      "Output 3D Array random float value:\n",
      " [[[0.49469455 0.36393908 0.0741625  0.96787471 0.16149034]\n",
      "  [0.18389321 0.57481283 0.04002987 0.51660528 0.56245118]\n",
      "  [0.72668309 0.20288244 0.54070682 0.29862387 0.18267972]\n",
      "  [0.79697196 0.93327618 0.747778   0.25286539 0.20323883]\n",
      "  [0.08426204 0.9608027  0.5382702  0.90335136 0.90655564]\n",
      "  [0.41761127 0.91507754 0.1753987  0.44567343 0.14818919]\n",
      "  [0.53472168 0.28501871 0.39135081 0.7524961  0.77323607]\n",
      "  [0.6442276  0.6130656  0.54413018 0.71950437 0.86470534]\n",
      "  [0.62289529 0.95863503 0.3582518  0.9706546  0.49949181]\n",
      "  [0.25221789 0.30728425 0.96727903 0.52711908 0.89547538]]\n",
      "\n",
      " [[0.87748109 0.4091842  0.950972   0.62422833 0.97635059]\n",
      "  [0.22423752 0.49297231 0.44133856 0.03776265 0.80022312]\n",
      "  [0.96564355 0.21526722 0.50491415 0.88084762 0.47242118]\n",
      "  [0.9662515  0.96621775 0.6692485  0.64832175 0.88199771]\n",
      "  [0.34192984 0.812813   0.81245001 0.46555846 0.77815872]\n",
      "  [0.67300192 0.46079571 0.42317175 0.00973662 0.4365147 ]\n",
      "  [0.14431827 0.35701765 0.96347738 0.17458714 0.69658597]\n",
      "  [0.27929775 0.68694077 0.13384179 0.41047512 0.5491533 ]\n",
      "  [0.63075143 0.41336389 0.88595397 0.33832658 0.96343569]\n",
      "  [0.53475459 0.8674587  0.0299912  0.05544107 0.78633585]]\n",
      "\n",
      " [[0.22442474 0.1589277  0.44662643 0.17628371 0.36484003]\n",
      "  [0.90708435 0.23563634 0.26164608 0.00745505 0.77605095]\n",
      "  [0.78433385 0.50824723 0.45646056 0.17308166 0.24277119]\n",
      "  [0.29943989 0.94802414 0.68931991 0.98261147 0.49382866]\n",
      "  [0.14770309 0.52597932 0.12779792 0.69642641 0.76745556]\n",
      "  [0.2050554  0.77093243 0.76067862 0.36597192 0.72946872]\n",
      "  [0.27559372 0.91084271 0.71929394 0.79993102 0.30057114]\n",
      "  [0.74446334 0.48655839 0.07175523 0.46784423 0.29514319]\n",
      "  [0.69083692 0.32237786 0.22579499 0.26606636 0.01868399]\n",
      "  [0.23766083 0.65327497 0.29142171 0.96684469 0.88363179]]\n",
      "\n",
      " [[0.04474182 0.91589683 0.27958208 0.38383839 0.14313864]\n",
      "  [0.6735511  0.24485663 0.83308377 0.76964812 0.60565806]\n",
      "  [0.80716417 0.02458331 0.8745015  0.5974292  0.14925589]\n",
      "  [0.92986142 0.74844548 0.17760844 0.60865022 0.58551008]\n",
      "  [0.96655177 0.74523436 0.56104208 0.32358345 0.68150819]\n",
      "  [0.44663046 0.51166834 0.29221766 0.44544959 0.35543925]\n",
      "  [0.00628058 0.49228476 0.85805463 0.27296671 0.75358752]\n",
      "  [0.74671018 0.00412908 0.93068333 0.32953255 0.40814543]\n",
      "  [0.55484762 0.36537431 0.72004247 0.96458898 0.26941696]\n",
      "  [0.28901989 0.53160849 0.09222992 0.74943578 0.39866675]]\n",
      "\n",
      " [[0.01935241 0.61438832 0.2894107  0.90821857 0.66014458]\n",
      "  [0.12422226 0.4527719  0.3805092  0.29768127 0.92325303]\n",
      "  [0.54672256 0.4413494  0.10884008 0.70774988 0.29145119]\n",
      "  [0.49071794 0.0814426  0.08013053 0.4070534  0.18013892]\n",
      "  [0.81095131 0.99861565 0.30542684 0.39681687 0.5269622 ]\n",
      "  [0.04299582 0.87678255 0.36358307 0.04007089 0.38448567]\n",
      "  [0.75354893 0.11286716 0.12366636 0.66078236 0.99537234]\n",
      "  [0.25273418 0.82463682 0.59755278 0.43384565 0.95190263]\n",
      "  [0.95420095 0.15002089 0.57261109 0.13244342 0.91968259]\n",
      "  [0.73469897 0.49201607 0.17238592 0.67649259 0.9411013 ]]]\n"
     ]
    }
   ],
   "source": [
    "arr = np.random.random_sample(size=(5,10,5))\n",
    "print('Output 3D Array random float value:\\n',arr)"
   ]
  },
  {
   "cell_type": "markdown",
   "id": "1b63d54e",
   "metadata": {},
   "source": [
    "## How To Deal With Data Type?"
   ]
  },
  {
   "cell_type": "code",
   "execution_count": 137,
   "id": "9e221add",
   "metadata": {},
   "outputs": [
    {
     "name": "stdout",
     "output_type": "stream",
     "text": [
      "2D Array with values:\n",
      " [[ 4  5  6  7  8  9]\n",
      " [10 11 12 13 14 15]\n",
      " [16 17 18 19 20 21]\n",
      " [22 23 24 25 26 27]]\n"
     ]
    }
   ],
   "source": [
    "array = np.arange(4,28).reshape(4,6) # 2D Array\n",
    "print('2D Array with values:\\n',array)"
   ]
  },
  {
   "cell_type": "code",
   "execution_count": 138,
   "id": "424be75f",
   "metadata": {},
   "outputs": [
    {
     "name": "stdout",
     "output_type": "stream",
     "text": [
      "Data type of array is: int32\n"
     ]
    }
   ],
   "source": [
    "# To check data type of array\n",
    "print('Data type of array is:',array.dtype)"
   ]
  },
  {
   "cell_type": "code",
   "execution_count": 140,
   "id": "2d95e682",
   "metadata": {},
   "outputs": [
    {
     "name": "stdout",
     "output_type": "stream",
     "text": [
      "2D Array with values:\n",
      " [[ 4.  5.  6.  7.  8.  9.]\n",
      " [10. 11. 12. 13. 14. 15.]\n",
      " [16. 17. 18. 19. 20. 21.]\n",
      " [22. 23. 24. 25. 26. 27.]]\n",
      "Data type of array is: float64\n"
     ]
    }
   ],
   "source": [
    "array = np.arange(4,28,dtype='float').reshape(4,6) # 2D Array\n",
    "print('2D Array with values:\\n',array)\n",
    "print('Data type of array is:',array.dtype)"
   ]
  },
  {
   "cell_type": "code",
   "execution_count": 141,
   "id": "b7785785",
   "metadata": {},
   "outputs": [
    {
     "name": "stdout",
     "output_type": "stream",
     "text": [
      "2D Array with values:\n",
      " [[ 4.  5.  6.  7.  8.  9.]\n",
      " [10. 11. 12. 13. 14. 15.]\n",
      " [16. 17. 18. 19. 20. 21.]\n",
      " [22. 23. 24. 25. 26. 27.]]\n",
      "Data type of array is: float32\n"
     ]
    }
   ],
   "source": [
    "array = np.arange(4,28,dtype='float32').reshape(4,6) # 2D Array\n",
    "print('2D Array with values:\\n',array)\n",
    "print('Data type of array is:',array.dtype)"
   ]
  },
  {
   "cell_type": "code",
   "execution_count": 142,
   "id": "c8523c3f",
   "metadata": {},
   "outputs": [
    {
     "name": "stdout",
     "output_type": "stream",
     "text": [
      "2D Array with values:\n",
      " [[ 4.  5.  6.  7.  8.  9.]\n",
      " [10. 11. 12. 13. 14. 15.]\n",
      " [16. 17. 18. 19. 20. 21.]\n",
      " [22. 23. 24. 25. 26. 27.]]\n",
      "Data type of array is: float16\n"
     ]
    }
   ],
   "source": [
    "array = np.arange(4,28,dtype='float16').reshape(4,6) # 2D Array\n",
    "print('2D Array with values:\\n',array)\n",
    "print('Data type of array is:',array.dtype)"
   ]
  },
  {
   "cell_type": "code",
   "execution_count": 146,
   "id": "eeedff83",
   "metadata": {},
   "outputs": [
    {
     "name": "stdout",
     "output_type": "stream",
     "text": [
      "2D Array with values:\n",
      " [[ 4.  5.  6.  7.  8.  9.]\n",
      " [10. 11. 12. 13. 14. 15.]\n",
      " [16. 17. 18. 19. 20. 21.]\n",
      " [22. 23. 24. 25. 26. 27.]]\n",
      "Data type of array is: float16\n"
     ]
    }
   ],
   "source": [
    "array = np.arange(4,28,dtype='f2').reshape(4,6) # 'f2' stands for float = 16bits\n",
    "print('2D Array with values:\\n',array)\n",
    "print('Data type of array is:',array.dtype)"
   ]
  },
  {
   "cell_type": "markdown",
   "id": "bd636087",
   "metadata": {},
   "source": [
    "## Change Data Type of given numpy array\n",
    "### ndarray.astype()\n",
    "#### In order to change the dtypeof the given array object, we will use numpy.astype() function. The function takes an argument which is the target data type. The function supports all the generic types and built-in types of data."
   ]
  },
  {
   "cell_type": "code",
   "execution_count": 151,
   "id": "c3c2a2fd",
   "metadata": {},
   "outputs": [
    {
     "name": "stdout",
     "output_type": "stream",
     "text": [
      "1D Array is: [10 20 30 40 50]\n",
      "Data type of 1D Array is: int32\n",
      "1D Array is: [10. 20. 30. 40. 50.]\n",
      "Data type of 1D Array is: float64\n"
     ]
    }
   ],
   "source": [
    "arr = np.array([10,20,30,40,50])\n",
    "print('1D Array is:',arr)\n",
    "print('Data type of 1D Array is:',arr.dtype)\n",
    "arr = arr.astype('float64') # To change Data type from int32 to float 64\n",
    "print('1D Array is:',arr)\n",
    "print('Data type of 1D Array is:',arr.dtype)"
   ]
  },
  {
   "cell_type": "code",
   "execution_count": 152,
   "id": "bee753df",
   "metadata": {},
   "outputs": [
    {
     "name": "stdout",
     "output_type": "stream",
     "text": [
      "1D Array is: [10 20 30 40 50]\n",
      "Data type of 1D Array is: int32\n",
      "1D Array is: [10.+0.j 20.+0.j 30.+0.j 40.+0.j 50.+0.j]\n",
      "Data type of 1D Array is: complex128\n"
     ]
    }
   ],
   "source": [
    "arr = np.array([10,20,30,40,50])\n",
    "print('1D Array is:',arr)\n",
    "print('Data type of 1D Array is:',arr.dtype)\n",
    "arr = arr.astype('complex128') # To change Data type from int32 to complex 128\n",
    "print('1D Array is:',arr)\n",
    "print('Data type of 1D Array is:',arr.dtype)"
   ]
  },
  {
   "cell_type": "code",
   "execution_count": 153,
   "id": "18c4718f",
   "metadata": {},
   "outputs": [
    {
     "name": "stdout",
     "output_type": "stream",
     "text": [
      "1D Array is: [10 20 30 40 50]\n",
      "Data type of 1D Array is: int32\n",
      "1D Array is: [10 20 30 40 50]\n",
      "Data type of 1D Array is: object\n"
     ]
    }
   ],
   "source": [
    "arr = np.array([10,20,30,40,50])\n",
    "print('1D Array is:',arr)\n",
    "print('Data type of 1D Array is:',arr.dtype)\n",
    "arr = arr.astype('object') # To change Data type from int32 to object\n",
    "print('1D Array is:',arr)\n",
    "print('Data type of 1D Array is:',arr.dtype)"
   ]
  },
  {
   "cell_type": "markdown",
   "id": "b16815f1",
   "metadata": {},
   "source": [
    "## How to convert NumPy array to List?"
   ]
  },
  {
   "cell_type": "markdown",
   "id": "1cdff3f6",
   "metadata": {},
   "source": [
    "### ndarray.tolist()\n",
    "#### We can convert the NumPy array to the list by tolist() method, we can have a list of data element which is converted from an array using this method.\n",
    "#### Syntax : ndarray.tolist()"
   ]
  },
  {
   "cell_type": "code",
   "execution_count": 160,
   "id": "1d04845e",
   "metadata": {},
   "outputs": [
    {
     "name": "stdout",
     "output_type": "stream",
     "text": [
      "2D Array is:\n",
      " [[ 1  2  3  4]\n",
      " [ 5  6  7  8]\n",
      " [ 9 10 11 12]\n",
      " [13 14 15 16]]\n",
      "<class 'numpy.ndarray'>\n",
      "Data type of 2D Array is: int32\n"
     ]
    }
   ],
   "source": [
    "arr = np.arange(1,17).reshape(4,4)\n",
    "print('2D Array is:\\n',arr)\n",
    "print('Type of 2D Array is:',type(arr))\n",
    "print('Data type of 2D Array is:',arr.dtype)"
   ]
  },
  {
   "cell_type": "code",
   "execution_count": 163,
   "id": "02590584",
   "metadata": {},
   "outputs": [
    {
     "name": "stdout",
     "output_type": "stream",
     "text": [
      "List: [[1, 2, 3, 4], [5, 6, 7, 8], [9, 10, 11, 12], [13, 14, 15, 16]]\n",
      "Type of List is: <class 'list'>\n"
     ]
    }
   ],
   "source": [
    "list = arr.tolist()\n",
    "print('List:',list)\n",
    "print('Type of List is:',type(list))"
   ]
  },
  {
   "cell_type": "markdown",
   "id": "120a545f",
   "metadata": {},
   "source": [
    "## Copying arrays\n",
    "### numpy.ndarray.copy()\n",
    "#### It returns a copy of the array.\n",
    "#### Syntax: numpy.ndarray.copy(order='C')\n",
    "#### Parameters:\n",
    "#### Order : Controls the memory layout of the copy. 'C' means C-order, 'F' means F-order, 'A' means 'F' if a is Fortran contiguous, 'C' otherwise. 'K' means match the layout of a as closely as possible."
   ]
  },
  {
   "cell_type": "code",
   "execution_count": 164,
   "id": "bc3db943",
   "metadata": {},
   "outputs": [
    {
     "data": {
      "text/plain": [
       "array([[ 1,  2,  3,  4],\n",
       "       [ 5,  6,  7,  8],\n",
       "       [ 9, 10, 11, 12],\n",
       "       [13, 14, 15, 16]])"
      ]
     },
     "execution_count": 164,
     "metadata": {},
     "output_type": "execute_result"
    }
   ],
   "source": [
    "arr"
   ]
  },
  {
   "cell_type": "code",
   "execution_count": 165,
   "id": "f54bbd8b",
   "metadata": {},
   "outputs": [
    {
     "name": "stdout",
     "output_type": "stream",
     "text": [
      "Id of arr is: 2232189215920\n"
     ]
    }
   ],
   "source": [
    "print('Id of arr is:',id(arr))"
   ]
  },
  {
   "cell_type": "markdown",
   "id": "390bcf99",
   "metadata": {},
   "source": [
    "### Shallow Copy:"
   ]
  },
  {
   "cell_type": "code",
   "execution_count": 168,
   "id": "e623ac32",
   "metadata": {},
   "outputs": [
    {
     "name": "stdout",
     "output_type": "stream",
     "text": [
      "copying arr to arr1:\n",
      " [[ 1  2  3  4]\n",
      " [ 5  6  7  8]\n",
      " [ 9 10 11 12]\n",
      " [13 14 15 16]]\n",
      "Id of arr1 is: 2232189214864\n"
     ]
    }
   ],
   "source": [
    "arr1 = arr.copy() # Shallow copy\n",
    "print('copying arr to arr1:\\n',arr1)\n",
    "print('Id of arr1 is:',id(arr1))"
   ]
  },
  {
   "cell_type": "markdown",
   "id": "8cb3c55b",
   "metadata": {},
   "source": [
    "### Deep Copy"
   ]
  },
  {
   "cell_type": "code",
   "execution_count": 169,
   "id": "89d6619f",
   "metadata": {},
   "outputs": [
    {
     "data": {
      "text/plain": [
       "array([[ 1,  2,  3,  4],\n",
       "       [ 5,  6,  7,  8],\n",
       "       [ 9, 10, 11, 12],\n",
       "       [13, 14, 15, 16]])"
      ]
     },
     "execution_count": 169,
     "metadata": {},
     "output_type": "execute_result"
    }
   ],
   "source": [
    "arr1 = arr \n",
    "arr1"
   ]
  },
  {
   "cell_type": "code",
   "execution_count": 170,
   "id": "373f4dc2",
   "metadata": {},
   "outputs": [
    {
     "name": "stdout",
     "output_type": "stream",
     "text": [
      "Id of arr is: 2232189218608\n",
      "Id of arr1 is: 2232189218608\n"
     ]
    }
   ],
   "source": [
    "print('Id of arr is:',id(arr))\n",
    "print('Id of arr1 is:',id(arr1))"
   ]
  },
  {
   "cell_type": "markdown",
   "id": "fc3aa308",
   "metadata": {},
   "source": [
    "## Statistics on NumPy Array / Measures of Central Tendency"
   ]
  },
  {
   "cell_type": "markdown",
   "id": "ec7b100f",
   "metadata": {},
   "source": [
    "### mean() : Takes a NumPy array as an argument and returns the arithmetic mean of the data.\n"
   ]
  },
  {
   "cell_type": "code",
   "execution_count": 173,
   "id": "92192e2e",
   "metadata": {},
   "outputs": [],
   "source": [
    "# np.mean(array)"
   ]
  },
  {
   "cell_type": "markdown",
   "id": "7929702a",
   "metadata": {},
   "source": [
    "### median() : Takes a NumPy array as an argument and returns the median of the data."
   ]
  },
  {
   "cell_type": "code",
   "execution_count": 174,
   "id": "60170314",
   "metadata": {},
   "outputs": [],
   "source": [
    "# np.median(array)"
   ]
  },
  {
   "cell_type": "markdown",
   "id": "1d0c0de2",
   "metadata": {},
   "source": [
    "### ptp() : It takes a NumPy array as an argumnet and returns the range of the data."
   ]
  },
  {
   "cell_type": "code",
   "execution_count": 175,
   "id": "e587c08e",
   "metadata": {},
   "outputs": [],
   "source": [
    "# np.ptp(array)"
   ]
  },
  {
   "cell_type": "markdown",
   "id": "d3fb69ba",
   "metadata": {},
   "source": [
    "### var() : It takes a NumPy array as an argument and returns the variance of the data."
   ]
  },
  {
   "cell_type": "code",
   "execution_count": 176,
   "id": "c9cbfa00",
   "metadata": {},
   "outputs": [],
   "source": [
    "# np.var(array)"
   ]
  },
  {
   "cell_type": "markdown",
   "id": "e7a984f7",
   "metadata": {},
   "source": [
    "### std() : It takes a NumPy array as an argumnet and returns the standard variation of the data."
   ]
  },
  {
   "cell_type": "code",
   "execution_count": 177,
   "id": "e545990c",
   "metadata": {},
   "outputs": [],
   "source": [
    "# np.std(array)"
   ]
  },
  {
   "cell_type": "markdown",
   "id": "c205c93e",
   "metadata": {},
   "source": [
    "### sum() : It takes a NumPy array as an argument and returns the sum of the array elements."
   ]
  },
  {
   "cell_type": "code",
   "execution_count": 178,
   "id": "d0bcf407",
   "metadata": {},
   "outputs": [],
   "source": [
    "# np.sum(array)"
   ]
  },
  {
   "cell_type": "markdown",
   "id": "c8d6fb3a",
   "metadata": {},
   "source": [
    "### min() : It takes a NumPy array as an argument and returns the minimum value in the array."
   ]
  },
  {
   "cell_type": "code",
   "execution_count": 179,
   "id": "cd2d80ea",
   "metadata": {},
   "outputs": [],
   "source": [
    "# np.min(array)"
   ]
  },
  {
   "cell_type": "markdown",
   "id": "42753cd9",
   "metadata": {},
   "source": [
    "### max() : It takes a NumPy array as an argument and returns the maximum value in the array."
   ]
  },
  {
   "cell_type": "code",
   "execution_count": 180,
   "id": "acf39d59",
   "metadata": {},
   "outputs": [],
   "source": [
    "# np.max(array)"
   ]
  },
  {
   "cell_type": "code",
   "execution_count": 6,
   "id": "009fe6c0",
   "metadata": {},
   "outputs": [
    {
     "data": {
      "text/plain": [
       "array([[1, 2, 3],\n",
       "       [4, 5, 6],\n",
       "       [7, 8, 9]])"
      ]
     },
     "execution_count": 6,
     "metadata": {},
     "output_type": "execute_result"
    }
   ],
   "source": [
    "import numpy as np\n",
    "arr = np.arange(1,10).reshape(3,3)\n",
    "arr"
   ]
  },
  {
   "cell_type": "code",
   "execution_count": 22,
   "id": "9f10fcfe",
   "metadata": {},
   "outputs": [
    {
     "name": "stdout",
     "output_type": "stream",
     "text": [
      "Maximum value of 2D Array is:\n",
      " 9\n",
      "Minimum value of 2D Array is:\n",
      " 1\n",
      "Mean value of 2D Array is:\n",
      " 5.0\n",
      "Median value of 2D Array is:\n",
      " 5.0\n",
      "Range of 2D Array is:\n",
      " 8\n",
      "Standard Deviation of 2D Array is:\n",
      " 2.581988897471611\n",
      "Variance of 2D Array is:\n",
      " 6.666666666666667\n",
      "Sum of 2D Array is:\n",
      " 45\n",
      "Cummulative sum of 2D Array is:\n",
      " [ 1  3  6 10 15 21 28 36 45]\n",
      "Cummulative product od 2D Array is:\n",
      " [     1      2      6     24    120    720   5040  40320 362880]\n"
     ]
    }
   ],
   "source": [
    "print('Maximum value of 2D Array is:\\n',np.max(arr))\n",
    "print('Minimum value of 2D Array is:\\n',np.min(arr))\n",
    "print('Mean value of 2D Array is:\\n',np.mean(arr))\n",
    "print('Median value of 2D Array is:\\n',np.median(arr))\n",
    "print('Range of 2D Array is:\\n',np.ptp(arr))\n",
    "print('Standard Deviation of 2D Array is:\\n',np.std(arr))\n",
    "print('Variance of 2D Array is:\\n',np.var(arr))\n",
    "print('Sum of 2D Array is:\\n',np.sum(arr))\n",
    "print('Cummulative sum of 2D Array is:\\n',np.cumsum(arr))\n",
    "print('Cummulative product od 2D Array is:\\n',np.cumprod(arr))"
   ]
  },
  {
   "cell_type": "code",
   "execution_count": 21,
   "id": "c771504c",
   "metadata": {},
   "outputs": [
    {
     "data": {
      "text/plain": [
       "array([ 1,  2,  3,  4,  5,  6,  7,  8,  9, 10, 11, 12, 13, 14, 15, 16, 17,\n",
       "       18, 19, 20, 21, 22, 23])"
      ]
     },
     "execution_count": 21,
     "metadata": {},
     "output_type": "execute_result"
    }
   ],
   "source": [
    "arr1 = np.arange(1,24)\n",
    "arr1"
   ]
  },
  {
   "cell_type": "code",
   "execution_count": 19,
   "id": "086c0705",
   "metadata": {},
   "outputs": [
    {
     "name": "stdout",
     "output_type": "stream",
     "text": [
      "Maximum value of 1D Array is:\n",
      " 23\n",
      "Minimum value of 1D Array is:\n",
      " 1\n",
      "Mean value of 1D Array is:\n",
      " 12.0\n",
      "Range of 1D Array is:\n",
      " 22\n",
      "Standard Deviation of 1D Array is:\n",
      " 6.6332495807108\n",
      "Variance of 1D Array is:\n",
      " 44.0\n",
      "Sum of 1D Array is:\n",
      " 276\n",
      "Cummulative sum of 1D Array is:\n",
      " [  1   3   6  10  15  21  28  36  45  55  66  78  91 105 120 136 153 171\n",
      " 190 210 231 253 276]\n",
      "Cummulative product od 1D Array is:\n",
      " [          1           2           6          24         120         720\n",
      "        5040       40320      362880     3628800    39916800   479001600\n",
      "  1932053504  1278945280  2004310016  2004189184  -288522240  -898433024\n",
      "   109641728 -2102132736 -1195114496  -522715136   862453760]\n"
     ]
    }
   ],
   "source": [
    "print('Maximum value of 1D Array is:\\n',arr1.max())\n",
    "print('Minimum value of 1D Array is:\\n',arr1.min())\n",
    "print('Mean value of 1D Array is:\\n',arr1.mean())\n",
    "#print('Median value of 1D Array is:\\n',arr1.median())\n",
    "print('Range of 1D Array is:\\n',arr1.ptp())\n",
    "print('Standard Deviation of 1D Array is:\\n',arr1.std())\n",
    "print('Variance of 1D Array is:\\n',arr1.var())\n",
    "print('Sum of 1D Array is:\\n',arr1.sum())\n",
    "print('Cummulative sum of 1D Array is:\\n',arr1.cumsum())\n",
    "print('Cummulative product od 1D Array is:\\n',arr1.cumprod())"
   ]
  },
  {
   "cell_type": "markdown",
   "id": "7a3f61c9",
   "metadata": {},
   "source": [
    "## NumPy Sorting Operation on Arrays"
   ]
  },
  {
   "cell_type": "markdown",
   "id": "4c6e75eb",
   "metadata": {},
   "source": [
    "### Sorting Arrays"
   ]
  },
  {
   "cell_type": "markdown",
   "id": "1aa88d95",
   "metadata": {},
   "source": [
    "#### Sorting means putting elements in an ordered sequence.\n",
    "#### Ordered sequence is any sequence that has an order corresponding to elements, like numeric or alphabetical, ascending or descending.\n",
    "#### The NumPy ndarray object has a function called 'sort()' that will sort a specified array.\n",
    "#### Note: This method returns a copy of the array leaving the original array unchanged."
   ]
  },
  {
   "cell_type": "code",
   "execution_count": 23,
   "id": "9c9c1842",
   "metadata": {},
   "outputs": [
    {
     "name": "stdout",
     "output_type": "stream",
     "text": [
      "Sorting the 1D Array is: [0 1 2 3]\n"
     ]
    }
   ],
   "source": [
    "arr = np.array([3,2,0,1])\n",
    "print('Sorting the 1D Array is:',np.sort(arr))"
   ]
  },
  {
   "cell_type": "markdown",
   "id": "4918bf0e",
   "metadata": {},
   "source": [
    "#### You can also sort arrays of strings or any other data type."
   ]
  },
  {
   "cell_type": "code",
   "execution_count": 29,
   "id": "0b3c8c37",
   "metadata": {},
   "outputs": [
    {
     "name": "stdout",
     "output_type": "stream",
     "text": [
      "Sorting the 1D Array is:\n",
      " ['apple' 'banana' 'cherry']\n"
     ]
    }
   ],
   "source": [
    "arr = np.array(['banana','cherry','apple'])\n",
    "print('Sorting the 1D Array is:\\n',np.sort(arr))"
   ]
  },
  {
   "cell_type": "markdown",
   "id": "f238e107",
   "metadata": {},
   "source": [
    "#### Sort a boolean array"
   ]
  },
  {
   "cell_type": "code",
   "execution_count": 26,
   "id": "fb83b2a1",
   "metadata": {},
   "outputs": [
    {
     "name": "stdout",
     "output_type": "stream",
     "text": [
      "Sorting the 1D Array is: [False  True  True]\n"
     ]
    }
   ],
   "source": [
    "arr = np.array([True,False,True])\n",
    "print('Sorting the 1D Array is:\\n',np.sort(arr))"
   ]
  },
  {
   "cell_type": "markdown",
   "id": "e93bfd99",
   "metadata": {},
   "source": [
    "### Sorting a 2D Arrays"
   ]
  },
  {
   "cell_type": "code",
   "execution_count": 3,
   "id": "aba3fe2b",
   "metadata": {},
   "outputs": [
    {
     "name": "stdout",
     "output_type": "stream",
     "text": [
      "2D Array fill with values is:\n",
      " [[ 1  2  3  4]\n",
      " [ 5  6  7  8]\n",
      " [ 9 10 11 12]\n",
      " [13 14 15 16]\n",
      " [17 18 19 20]\n",
      " [21 22 23 24]]\n"
     ]
    }
   ],
   "source": [
    "import numpy as np\n",
    "arr = np.arange(1,25).reshape(6,4)\n",
    "print('2D Array fill with values is:\\n',arr)"
   ]
  },
  {
   "cell_type": "markdown",
   "id": "35eb4762",
   "metadata": {},
   "source": [
    "### Row-wise find out values use axis=1"
   ]
  },
  {
   "cell_type": "code",
   "execution_count": 9,
   "id": "f3a5680d",
   "metadata": {},
   "outputs": [
    {
     "name": "stdout",
     "output_type": "stream",
     "text": [
      "Row-wise Maximum value of 2D Array is:\n",
      " [ 4  8 12 16 20 24]\n",
      "Row-wise Minimum value of 2D Array is:\n",
      " [ 1  5  9 13 17 21]\n",
      "Row-wise Mean value of 2D Array is:\n",
      " [ 2.5  6.5 10.5 14.5 18.5 22.5]\n",
      "Row-wise median value of 2D Array is:\n",
      " [ 2.5  6.5 10.5 14.5 18.5 22.5]\n",
      "Row-wise variance value of 2D Array is:\n",
      " [1.25 1.25 1.25 1.25 1.25 1.25]\n",
      "Row-wise standard deviation value of 2D Array is:\n",
      " [1.11803399 1.11803399 1.11803399 1.11803399 1.11803399 1.11803399]\n",
      "Row-wise range of 2D Array is:\n",
      " [3 3 3 3 3 3]\n",
      "Row-wise sum of values of 2D Array is:\n",
      " [10 26 42 58 74 90]\n",
      "Row-wise cummulative sum of 2D Array is:\n",
      " [[ 1  3  6 10]\n",
      " [ 5 11 18 26]\n",
      " [ 9 19 30 42]\n",
      " [13 27 42 58]\n",
      " [17 35 54 74]\n",
      " [21 43 66 90]]\n",
      "Row-wise cummulative product of 2D Array is:\n",
      " [[     1      2      6     24]\n",
      " [     5     30    210   1680]\n",
      " [     9     90    990  11880]\n",
      " [    13    182   2730  43680]\n",
      " [    17    306   5814 116280]\n",
      " [    21    462  10626 255024]]\n",
      "Row-wise sort values of 2D Array is:\n",
      " [[ 1  2  3  4]\n",
      " [ 5  6  7  8]\n",
      " [ 9 10 11 12]\n",
      " [13 14 15 16]\n",
      " [17 18 19 20]\n",
      " [21 22 23 24]]\n"
     ]
    }
   ],
   "source": [
    "print('Row-wise Maximum value of 2D Array is:\\n',np.max(arr,axis=1))\n",
    "print('Row-wise Minimum value of 2D Array is:\\n',np.min(arr,axis=1))\n",
    "print('Row-wise Mean value of 2D Array is:\\n',np.mean(arr,axis=1))\n",
    "print('Row-wise median value of 2D Array is:\\n',np.median(arr,axis=1))\n",
    "print('Row-wise variance value of 2D Array is:\\n',np.var(arr,axis=1))\n",
    "print('Row-wise standard deviation value of 2D Array is:\\n',np.std(arr,axis=1))\n",
    "print('Row-wise range of 2D Array is:\\n',np.ptp(arr,axis=1))\n",
    "print('Row-wise sum of values of 2D Array is:\\n',np.sum(arr,axis=1))\n",
    "print('Row-wise cummulative sum of 2D Array is:\\n',np.cumsum(arr,axis=1))\n",
    "print('Row-wise cummulative product of 2D Array is:\\n',np.cumprod(arr,axis=1))\n",
    "print('Row-wise sort values of 2D Array is:\\n',np.sort(arr,axis=1))"
   ]
  },
  {
   "cell_type": "markdown",
   "id": "4c22f5ce",
   "metadata": {},
   "source": [
    "### Column-wise find out values use axis=0"
   ]
  },
  {
   "cell_type": "code",
   "execution_count": 10,
   "id": "84b20454",
   "metadata": {},
   "outputs": [
    {
     "name": "stdout",
     "output_type": "stream",
     "text": [
      "Column-wise Maximum value of 2D Array is:\n",
      " [21 22 23 24]\n",
      "Column-wise Minimum value of 2D Array is:\n",
      " [1 2 3 4]\n",
      "Column-wise Mean value of 2D Array is:\n",
      " [11. 12. 13. 14.]\n",
      "Column-wise median value of 2D Array is:\n",
      " [11. 12. 13. 14.]\n",
      "Column-wise variance value of 2D Array is:\n",
      " [46.66666667 46.66666667 46.66666667 46.66666667]\n",
      "Column-wise standard deviation value of 2D Array is:\n",
      " [6.83130051 6.83130051 6.83130051 6.83130051]\n",
      "Column-wise range of 2D Array is:\n",
      " [20 20 20 20]\n",
      "Column-wise sum of values of 2D Array is:\n",
      " [66 72 78 84]\n",
      "Column-wise cummulative sum of 2D Arrays is:\n",
      " [[ 1  2  3  4]\n",
      " [ 6  8 10 12]\n",
      " [15 18 21 24]\n",
      " [28 32 36 40]\n",
      " [45 50 55 60]\n",
      " [66 72 78 84]]\n",
      "Column-wise cummulative product of 2D Arrays is:\n",
      " [[      1       2       3       4]\n",
      " [      5      12      21      32]\n",
      " [     45     120     231     384]\n",
      " [    585    1680    3465    6144]\n",
      " [   9945   30240   65835  122880]\n",
      " [ 208845  665280 1514205 2949120]]\n",
      "Column-wise sort values of 2D Array is:\n",
      " [[ 1  2  3  4]\n",
      " [ 5  6  7  8]\n",
      " [ 9 10 11 12]\n",
      " [13 14 15 16]\n",
      " [17 18 19 20]\n",
      " [21 22 23 24]]\n"
     ]
    }
   ],
   "source": [
    "print('Column-wise Maximum value of 2D Array is:\\n',np.max(arr,axis=0))\n",
    "print('Column-wise Minimum value of 2D Array is:\\n',np.min(arr,axis=0))\n",
    "print('Column-wise Mean value of 2D Array is:\\n',np.mean(arr,axis=0))\n",
    "print('Column-wise median value of 2D Array is:\\n',np.median(arr,axis=0))\n",
    "print('Column-wise variance value of 2D Array is:\\n',np.var(arr,axis=0))\n",
    "print('Column-wise standard deviation value of 2D Array is:\\n',np.std(arr,axis=0))\n",
    "print('Column-wise range of 2D Array is:\\n',np.ptp(arr,axis=0))\n",
    "print('Column-wise sum of values of 2D Array is:\\n',np.sum(arr,axis=0))\n",
    "print('Column-wise cummulative sum of 2D Arrays is:\\n',np.cumsum(arr,axis=0))\n",
    "print('Column-wise cummulative product of 2D Arrays is:\\n',np.cumprod(arr,axis=0))\n",
    "print('Column-wise sort values of 2D Array is:\\n',np.sort(arr,axis=0))"
   ]
  },
  {
   "cell_type": "markdown",
   "id": "fbfe9825",
   "metadata": {},
   "source": [
    "## To check the signature of any function of numpy\n",
    "### Different ways are as follows:\n",
    "    # np.linspace#shift tab\n",
    "    # np.linspace?\n",
    "    # help(np.linspace)\n",
    "    # np.info(np.linspace)"
   ]
  },
  {
   "cell_type": "code",
   "execution_count": 11,
   "id": "5602b8ab",
   "metadata": {},
   "outputs": [],
   "source": [
    "np.linspace?"
   ]
  },
  {
   "cell_type": "markdown",
   "id": "567f1c18",
   "metadata": {},
   "source": [
    "## NumPy Array Shape manipulation:"
   ]
  },
  {
   "cell_type": "code",
   "execution_count": 20,
   "id": "997b1d96",
   "metadata": {
    "scrolled": true
   },
   "outputs": [
    {
     "name": "stdout",
     "output_type": "stream",
     "text": [
      "1D Array is:\n",
      " [ 1  2  3  4  5  6  7  8  9 10 11 12 13 14 15 16 17 18 19 20 21 22 23 24\n",
      " 25 26 27 28]\n",
      "Size of 1D Array is: 28\n",
      "Dimension of Array is: 1\n"
     ]
    }
   ],
   "source": [
    "arr = np.arange(1,29)\n",
    "print('1D Array is:\\n',arr)\n",
    "print('Size of 1D Array is:',arr.size)\n",
    "print('Dimension of Array is:',arr.ndim)"
   ]
  },
  {
   "cell_type": "markdown",
   "id": "bb54300a",
   "metadata": {},
   "source": [
    "## reshape()\n",
    "### reshape does not change original object\n",
    "### it just gives reflection\n",
    "### temp change\n",
    "### reshape is not inplace"
   ]
  },
  {
   "cell_type": "code",
   "execution_count": 21,
   "id": "94f82114",
   "metadata": {},
   "outputs": [],
   "source": [
    "#1D: 28\n",
    "#2D(rows,column): (4,7) (7,4) (2,14) (14,2) (1,28) (28,1) \n",
    "#3D(block,row,column): (2,2,7) (7,4,4) (2,14,1) (1,1,28)"
   ]
  },
  {
   "cell_type": "code",
   "execution_count": 24,
   "id": "73fc5a0c",
   "metadata": {},
   "outputs": [
    {
     "name": "stdout",
     "output_type": "stream",
     "text": [
      "1D Array is:\n",
      " [ 1  2  3  4  5  6  7  8  9 10 11 12 13 14 15 16 17 18 19 20 21 22 23 24\n",
      " 25 26 27 28]\n"
     ]
    }
   ],
   "source": [
    "arr = np.arange(1,29).reshape(28)\n",
    "print('1D Array is:\\n',arr)"
   ]
  },
  {
   "cell_type": "code",
   "execution_count": 25,
   "id": "ba2db9f3",
   "metadata": {},
   "outputs": [
    {
     "name": "stdout",
     "output_type": "stream",
     "text": [
      "2D Array is:\n",
      " [[ 1  2  3  4  5  6  7]\n",
      " [ 8  9 10 11 12 13 14]\n",
      " [15 16 17 18 19 20 21]\n",
      " [22 23 24 25 26 27 28]]\n"
     ]
    }
   ],
   "source": [
    "arr = np.arange(1,29).reshape(4,7)\n",
    "print('2D Array is:\\n',arr)"
   ]
  },
  {
   "cell_type": "code",
   "execution_count": 30,
   "id": "e9c7df06",
   "metadata": {},
   "outputs": [
    {
     "name": "stdout",
     "output_type": "stream",
     "text": [
      "2D Array is:\n",
      " [[ 1  2  3  4  5  6  7]\n",
      " [ 8  9 10 11 12 13 14]\n",
      " [15 16 17 18 19 20 21]\n",
      " [22 23 24 25 26 27 28]]\n"
     ]
    }
   ],
   "source": [
    "arr = np.arange(1,29).reshape(4,-1)\n",
    "print('2D Array is:\\n',arr)"
   ]
  },
  {
   "cell_type": "code",
   "execution_count": 31,
   "id": "cc0a782b",
   "metadata": {},
   "outputs": [
    {
     "name": "stdout",
     "output_type": "stream",
     "text": [
      "2D Array is:\n",
      " [[ 1  2  3  4  5  6  7]\n",
      " [ 8  9 10 11 12 13 14]\n",
      " [15 16 17 18 19 20 21]\n",
      " [22 23 24 25 26 27 28]]\n"
     ]
    }
   ],
   "source": [
    "arr = np.arange(1,29).reshape(-1,7)\n",
    "print('2D Array is:\\n',arr)"
   ]
  },
  {
   "cell_type": "code",
   "execution_count": 27,
   "id": "7e7795ef",
   "metadata": {},
   "outputs": [
    {
     "name": "stdout",
     "output_type": "stream",
     "text": [
      "3D Array is:\n",
      " [[[ 1  2]\n",
      "  [ 3  4]\n",
      "  [ 5  6]\n",
      "  [ 7  8]\n",
      "  [ 9 10]\n",
      "  [11 12]\n",
      "  [13 14]]\n",
      "\n",
      " [[15 16]\n",
      "  [17 18]\n",
      "  [19 20]\n",
      "  [21 22]\n",
      "  [23 24]\n",
      "  [25 26]\n",
      "  [27 28]]]\n"
     ]
    }
   ],
   "source": [
    "arr = np.arange(1,29).reshape(2,7,2)\n",
    "print('3D Array is:\\n',arr)"
   ]
  },
  {
   "cell_type": "code",
   "execution_count": 32,
   "id": "7e35f5e7",
   "metadata": {},
   "outputs": [
    {
     "name": "stdout",
     "output_type": "stream",
     "text": [
      "3D Array is:\n",
      " [[[ 1  2]\n",
      "  [ 3  4]\n",
      "  [ 5  6]\n",
      "  [ 7  8]\n",
      "  [ 9 10]\n",
      "  [11 12]\n",
      "  [13 14]]\n",
      "\n",
      " [[15 16]\n",
      "  [17 18]\n",
      "  [19 20]\n",
      "  [21 22]\n",
      "  [23 24]\n",
      "  [25 26]\n",
      "  [27 28]]]\n"
     ]
    }
   ],
   "source": [
    "arr = np.arange(1,29).reshape(2,7,-1)\n",
    "print('3D Array is:\\n',arr)"
   ]
  },
  {
   "cell_type": "code",
   "execution_count": 33,
   "id": "9c136b09",
   "metadata": {},
   "outputs": [
    {
     "name": "stdout",
     "output_type": "stream",
     "text": [
      "3D Array is:\n",
      " [[[ 1  2]\n",
      "  [ 3  4]\n",
      "  [ 5  6]\n",
      "  [ 7  8]\n",
      "  [ 9 10]\n",
      "  [11 12]\n",
      "  [13 14]]\n",
      "\n",
      " [[15 16]\n",
      "  [17 18]\n",
      "  [19 20]\n",
      "  [21 22]\n",
      "  [23 24]\n",
      "  [25 26]\n",
      "  [27 28]]]\n"
     ]
    }
   ],
   "source": [
    "arr = np.arange(1,29).reshape(-1,7,2)\n",
    "print('3D Array is:\\n',arr)"
   ]
  },
  {
   "cell_type": "code",
   "execution_count": 34,
   "id": "ea5c955f",
   "metadata": {},
   "outputs": [
    {
     "name": "stdout",
     "output_type": "stream",
     "text": [
      "3D Array is:\n",
      " [[[ 1  2]\n",
      "  [ 3  4]\n",
      "  [ 5  6]\n",
      "  [ 7  8]\n",
      "  [ 9 10]\n",
      "  [11 12]\n",
      "  [13 14]]\n",
      "\n",
      " [[15 16]\n",
      "  [17 18]\n",
      "  [19 20]\n",
      "  [21 22]\n",
      "  [23 24]\n",
      "  [25 26]\n",
      "  [27 28]]]\n"
     ]
    }
   ],
   "source": [
    "arr = np.arange(1,29).reshape(2,-1,2)\n",
    "print('3D Array is:\\n',arr)"
   ]
  },
  {
   "cell_type": "markdown",
   "id": "8edb8250",
   "metadata": {},
   "source": [
    "## How to do reshape as inplace\n",
    "### resize()\n",
    "### resize  change original object\n",
    "### it not gives reflection\n",
    "### permanant change\n",
    "### resize is  inplace"
   ]
  },
  {
   "cell_type": "code",
   "execution_count": 42,
   "id": "58af89d9",
   "metadata": {},
   "outputs": [
    {
     "data": {
      "text/plain": [
       "array([ 1,  2,  3,  4,  5,  6,  7,  8,  9, 10, 11, 12, 13, 14, 15, 16, 17,\n",
       "       18, 19, 20, 21, 22, 23, 24, 25, 26, 27, 28])"
      ]
     },
     "execution_count": 42,
     "metadata": {},
     "output_type": "execute_result"
    }
   ],
   "source": [
    "a = np.arange(1,29)\n",
    "a"
   ]
  },
  {
   "cell_type": "code",
   "execution_count": 44,
   "id": "a48a01ca",
   "metadata": {},
   "outputs": [
    {
     "data": {
      "text/plain": [
       "28"
      ]
     },
     "execution_count": 44,
     "metadata": {},
     "output_type": "execute_result"
    }
   ],
   "source": [
    "a.size"
   ]
  },
  {
   "cell_type": "code",
   "execution_count": 45,
   "id": "5e1258e0",
   "metadata": {},
   "outputs": [
    {
     "data": {
      "text/plain": [
       "array([ 1,  2,  3,  4,  5,  6,  7,  8,  9, 10, 11, 12, 13, 14, 15, 16, 17,\n",
       "       18, 19, 20, 21, 22, 23, 24, 25, 26, 27, 28])"
      ]
     },
     "execution_count": 45,
     "metadata": {},
     "output_type": "execute_result"
    }
   ],
   "source": [
    "a.resize(28) # 1D Array\n",
    "a"
   ]
  },
  {
   "cell_type": "code",
   "execution_count": 46,
   "id": "1b2e9845",
   "metadata": {},
   "outputs": [
    {
     "data": {
      "text/plain": [
       "array([[ 1,  2,  3,  4],\n",
       "       [ 5,  6,  7,  8],\n",
       "       [ 9, 10, 11, 12],\n",
       "       [13, 14, 15, 16],\n",
       "       [17, 18, 19, 20],\n",
       "       [21, 22, 23, 24],\n",
       "       [25, 26, 27, 28]])"
      ]
     },
     "execution_count": 46,
     "metadata": {},
     "output_type": "execute_result"
    }
   ],
   "source": [
    "a.resize(7,4) # 2D Array\n",
    "a"
   ]
  },
  {
   "cell_type": "code",
   "execution_count": 47,
   "id": "ba4c4cd8",
   "metadata": {},
   "outputs": [
    {
     "data": {
      "text/plain": [
       "array([[[ 1,  2],\n",
       "        [ 3,  4]],\n",
       "\n",
       "       [[ 5,  6],\n",
       "        [ 7,  8]],\n",
       "\n",
       "       [[ 9, 10],\n",
       "        [11, 12]],\n",
       "\n",
       "       [[13, 14],\n",
       "        [15, 16]],\n",
       "\n",
       "       [[17, 18],\n",
       "        [19, 20]],\n",
       "\n",
       "       [[21, 22],\n",
       "        [23, 24]],\n",
       "\n",
       "       [[25, 26],\n",
       "        [27, 28]]])"
      ]
     },
     "execution_count": 47,
     "metadata": {},
     "output_type": "execute_result"
    }
   ],
   "source": [
    "a.resize(7,2,2) # 3D Array\n",
    "a"
   ]
  },
  {
   "cell_type": "markdown",
   "id": "8da24b39",
   "metadata": {},
   "source": [
    "### make the rows as column and column as rows\n",
    "### a.T #transpose"
   ]
  },
  {
   "cell_type": "code",
   "execution_count": 51,
   "id": "55569030",
   "metadata": {},
   "outputs": [
    {
     "data": {
      "text/plain": [
       "array([ 1,  2,  3,  4,  5,  6,  7,  8,  9, 10, 11, 12, 13, 14, 15, 16, 17,\n",
       "       18, 19, 20, 21, 22, 23, 24, 25, 26, 27, 28])"
      ]
     },
     "execution_count": 51,
     "metadata": {},
     "output_type": "execute_result"
    }
   ],
   "source": [
    "a = np.arange(1,29)\n",
    "a"
   ]
  },
  {
   "cell_type": "code",
   "execution_count": 56,
   "id": "52132977",
   "metadata": {},
   "outputs": [
    {
     "data": {
      "text/plain": [
       "array([[ 1,  2,  3,  4],\n",
       "       [ 5,  6,  7,  8],\n",
       "       [ 9, 10, 11, 12],\n",
       "       [13, 14, 15, 16],\n",
       "       [17, 18, 19, 20],\n",
       "       [21, 22, 23, 24],\n",
       "       [25, 26, 27, 28]])"
      ]
     },
     "execution_count": 56,
     "metadata": {},
     "output_type": "execute_result"
    }
   ],
   "source": [
    "a.resize(7,4)\n",
    "a"
   ]
  },
  {
   "cell_type": "code",
   "execution_count": 57,
   "id": "ad5b6231",
   "metadata": {},
   "outputs": [
    {
     "data": {
      "text/plain": [
       "array([[ 1,  5,  9, 13, 17, 21, 25],\n",
       "       [ 2,  6, 10, 14, 18, 22, 26],\n",
       "       [ 3,  7, 11, 15, 19, 23, 27],\n",
       "       [ 4,  8, 12, 16, 20, 24, 28]])"
      ]
     },
     "execution_count": 57,
     "metadata": {},
     "output_type": "execute_result"
    }
   ],
   "source": [
    "a.T"
   ]
  },
  {
   "cell_type": "code",
   "execution_count": 58,
   "id": "75ee9bb4",
   "metadata": {},
   "outputs": [
    {
     "data": {
      "text/plain": [
       "array([[ 1,  5,  9, 13, 17, 21, 25],\n",
       "       [ 2,  6, 10, 14, 18, 22, 26],\n",
       "       [ 3,  7, 11, 15, 19, 23, 27],\n",
       "       [ 4,  8, 12, 16, 20, 24, 28]])"
      ]
     },
     "execution_count": 58,
     "metadata": {},
     "output_type": "execute_result"
    }
   ],
   "source": [
    "np.transpose(a)"
   ]
  },
  {
   "cell_type": "code",
   "execution_count": 59,
   "id": "624813b2",
   "metadata": {},
   "outputs": [
    {
     "data": {
      "text/plain": [
       "array([[ 1,  2,  3,  4],\n",
       "       [ 5,  6,  7,  8],\n",
       "       [ 9, 10, 11, 12],\n",
       "       [13, 14, 15, 16],\n",
       "       [17, 18, 19, 20],\n",
       "       [21, 22, 23, 24],\n",
       "       [25, 26, 27, 28]])"
      ]
     },
     "execution_count": 59,
     "metadata": {},
     "output_type": "execute_result"
    }
   ],
   "source": [
    "a"
   ]
  },
  {
   "cell_type": "code",
   "execution_count": 61,
   "id": "55b9fe86",
   "metadata": {},
   "outputs": [
    {
     "data": {
      "text/plain": [
       "array([[ 1,  2,  3,  4,  5,  6,  7,  8,  9, 10, 11, 12, 13, 14, 15, 16,\n",
       "        17, 18, 19, 20, 21, 22, 23, 24, 25, 26, 27, 28]])"
      ]
     },
     "execution_count": 61,
     "metadata": {},
     "output_type": "execute_result"
    }
   ],
   "source": [
    "a.reshape(1,-1)"
   ]
  },
  {
   "cell_type": "markdown",
   "id": "b0b8b6a2",
   "metadata": {},
   "source": [
    "### ndarray.shape = ()"
   ]
  },
  {
   "cell_type": "code",
   "execution_count": 5,
   "id": "62d45a84",
   "metadata": {},
   "outputs": [
    {
     "name": "stdout",
     "output_type": "stream",
     "text": [
      "Array a is:\n",
      " [ 2  3  4  5  6  7  8  9 10 11 12 13 14 15 16 17 18 19 20 21 22 23 24 25\n",
      " 26 27 28 29]\n"
     ]
    }
   ],
   "source": [
    "import numpy as np\n",
    "a = np.arange(2,30)\n",
    "print('Array a is:\\n',a)"
   ]
  },
  {
   "cell_type": "code",
   "execution_count": 7,
   "id": "32eda32c",
   "metadata": {},
   "outputs": [],
   "source": [
    "a.shape = (4,7) #2D Array"
   ]
  },
  {
   "cell_type": "code",
   "execution_count": 8,
   "id": "62e54d75",
   "metadata": {},
   "outputs": [
    {
     "data": {
      "text/plain": [
       "array([[ 2,  3,  4,  5,  6,  7,  8],\n",
       "       [ 9, 10, 11, 12, 13, 14, 15],\n",
       "       [16, 17, 18, 19, 20, 21, 22],\n",
       "       [23, 24, 25, 26, 27, 28, 29]])"
      ]
     },
     "execution_count": 8,
     "metadata": {},
     "output_type": "execute_result"
    }
   ],
   "source": [
    "a"
   ]
  },
  {
   "cell_type": "code",
   "execution_count": 10,
   "id": "d4e726e1",
   "metadata": {},
   "outputs": [
    {
     "name": "stdout",
     "output_type": "stream",
     "text": [
      "Dimension of Array a is:\n",
      " 2\n"
     ]
    }
   ],
   "source": [
    "print('Dimension of Array a is:\\n',a.ndim)"
   ]
  },
  {
   "cell_type": "code",
   "execution_count": 11,
   "id": "a27f1eb3",
   "metadata": {},
   "outputs": [
    {
     "data": {
      "text/plain": [
       "array([[[ 2,  3],\n",
       "        [ 4,  5]],\n",
       "\n",
       "       [[ 6,  7],\n",
       "        [ 8,  9]],\n",
       "\n",
       "       [[10, 11],\n",
       "        [12, 13]],\n",
       "\n",
       "       [[14, 15],\n",
       "        [16, 17]],\n",
       "\n",
       "       [[18, 19],\n",
       "        [20, 21]],\n",
       "\n",
       "       [[22, 23],\n",
       "        [24, 25]],\n",
       "\n",
       "       [[26, 27],\n",
       "        [28, 29]]])"
      ]
     },
     "execution_count": 11,
     "metadata": {},
     "output_type": "execute_result"
    }
   ],
   "source": [
    "a.shape = (7,2,2) # 3D Array\n",
    "a"
   ]
  },
  {
   "cell_type": "code",
   "execution_count": 12,
   "id": "f7e61bcc",
   "metadata": {},
   "outputs": [
    {
     "name": "stdout",
     "output_type": "stream",
     "text": [
      "Dimension of Array a is:\n",
      " 3\n"
     ]
    }
   ],
   "source": [
    "print('Dimension of Array a is:\\n',a.ndim)"
   ]
  },
  {
   "cell_type": "code",
   "execution_count": 19,
   "id": "3f060782",
   "metadata": {},
   "outputs": [
    {
     "data": {
      "text/plain": [
       "array([ 2,  3,  4,  5,  6,  7,  8,  9, 10, 11, 12, 13, 14, 15, 16, 17, 18,\n",
       "       19, 20, 21, 22, 23, 24, 25, 26, 27, 28, 29])"
      ]
     },
     "execution_count": 19,
     "metadata": {},
     "output_type": "execute_result"
    }
   ],
   "source": [
    "a.shape = (28) # 1D Array\n",
    "a"
   ]
  },
  {
   "cell_type": "code",
   "execution_count": 17,
   "id": "c2308d13",
   "metadata": {},
   "outputs": [
    {
     "name": "stdout",
     "output_type": "stream",
     "text": [
      "Dimension of Array a is:\n",
      " 1\n"
     ]
    }
   ],
   "source": [
    "print('Dimension of Array a is:\\n',a.ndim)"
   ]
  },
  {
   "cell_type": "markdown",
   "id": "61629ea4",
   "metadata": {},
   "source": [
    "### Adding Elements to NumPy Array using numpy.add(arr1,arr2)\n",
    "### numpy.add()\n",
    "#### numpy.add() function is used when we want to compute the addition of two array. It add argumnets element-wise. If shape of two arrays are not same, that is arr1.shape ! = arr.shape, they must be broadcastable to common shape(which may be the shape of one or the other.)\n",
    "#### Syntax: numpy.add(arr1,arr2)"
   ]
  },
  {
   "cell_type": "code",
   "execution_count": 21,
   "id": "34dc21fd",
   "metadata": {},
   "outputs": [
    {
     "name": "stdout",
     "output_type": "stream",
     "text": [
      "Array1 is:\n",
      " [1 2 3 4]\n",
      "Array2 is:\n",
      " [5 6 7 8]\n",
      "Addition of Array1 & Array2 is:\n",
      " [ 6  8 10 12]\n"
     ]
    }
   ],
   "source": [
    "arr1 = np.array([1,2,3,4])\n",
    "arr2 = np.array([5,6,7,8])\n",
    "print('Array1 is:\\n',arr1)\n",
    "print('Array2 is:\\n',arr2)\n",
    "arr3 = np.add(arr1,arr2)\n",
    "print('Addition of Array1 & Array2 is:\\n',arr3)"
   ]
  },
  {
   "cell_type": "code",
   "execution_count": 2,
   "id": "28ae6333",
   "metadata": {},
   "outputs": [
    {
     "name": "stdout",
     "output_type": "stream",
     "text": [
      "Array1 is:\n",
      " [[ 2 -7  5]\n",
      " [-6  2  0]]\n",
      "Array2 is:\n",
      " [[ 5  8 -5]\n",
      " [ 3  6  9]]\n",
      "Addition of Array1 & Array2 is:\n",
      " [[ 7  1  0]\n",
      " [-3  8  9]]\n"
     ]
    }
   ],
   "source": [
    "import numpy as np\n",
    "arr1 = np.array([[2,-7,5],[-6,2,0]])\n",
    "arr2 = np.array([[5,8,-5],[3,6,9]])\n",
    "print('Array1 is:\\n',arr1)\n",
    "print('Array2 is:\\n',arr2)\n",
    "arr3 = np.add(arr1,arr2)\n",
    "print('Addition of Array1 & Array2 is:\\n',arr3)"
   ]
  },
  {
   "cell_type": "markdown",
   "id": "86ff3547",
   "metadata": {},
   "source": [
    "### Add Elements to NumPy Array using numpy.append()\n",
    "#### NumPy module in python, provides a function to numpy.append() to add an element in a numpy array. \n",
    "#### It doesn't modifies the existing array, but returns a copy of the passed array with given value added to it."
   ]
  },
  {
   "cell_type": "code",
   "execution_count": 3,
   "id": "bd1104e2",
   "metadata": {},
   "outputs": [
    {
     "name": "stdout",
     "output_type": "stream",
     "text": [
      "Array1 is:\n",
      " [10 20 30 40 50 60]\n",
      "Array2 is:\n",
      " [100 200 300 400 500 600]\n",
      "Array3 is:\n",
      " [ 10  20  30  40  50  60 100 200 300 400 500 600]\n"
     ]
    }
   ],
   "source": [
    "arr1 = np.array([10,20,30,40,50,60])\n",
    "arr2 = np.array([100,200,300,400,500,600])\n",
    "print('Array1 is:\\n',arr1)\n",
    "print('Array2 is:\\n',arr2)\n",
    "arr3 = np.append(arr1,arr2)\n",
    "print('Array3 is:\\n',arr3)"
   ]
  },
  {
   "cell_type": "code",
   "execution_count": 4,
   "id": "992fe7eb",
   "metadata": {},
   "outputs": [
    {
     "name": "stdout",
     "output_type": "stream",
     "text": [
      "Add Elements to Array1:\n",
      " [ 10  20  30  40  50  60 450]\n"
     ]
    }
   ],
   "source": [
    "print('Add Elements to Array1:\\n',np.append(arr1,450))"
   ]
  },
  {
   "cell_type": "code",
   "execution_count": 5,
   "id": "560d7852",
   "metadata": {},
   "outputs": [
    {
     "name": "stdout",
     "output_type": "stream",
     "text": [
      "Add Elements to Array2:\n",
      " [100 200 300 400 500 600 555]\n"
     ]
    }
   ],
   "source": [
    "print('Add Elements to Array2:\\n',np.append(arr2,555))"
   ]
  },
  {
   "cell_type": "markdown",
   "id": "cf42f37c",
   "metadata": {},
   "source": [
    "#### Row-wise Append"
   ]
  },
  {
   "cell_type": "code",
   "execution_count": 5,
   "id": "c015fc93",
   "metadata": {},
   "outputs": [
    {
     "name": "stdout",
     "output_type": "stream",
     "text": [
      "Array1 is:\n",
      " [ 5 10 15 20 25]\n",
      "Array2 is:\n",
      " [ 9 18 27 36 45]\n",
      "Append elements in 1D Array3 Column-wise:\n",
      " [ 5 10 15 20 25  9 18 27 36 45]\n"
     ]
    }
   ],
   "source": [
    "import numpy as np\n",
    "arr1 = np.array([5,10,15,20,25])\n",
    "arr2 = np.array([9,18,27,36,45])\n",
    "print('Array1 is:\\n',arr1)\n",
    "print('Array2 is:\\n',arr2)\n",
    "arr3 = np.append(arr1,arr2,axis=0)\n",
    "print(\"Append elements in 1D Array3 Column-wise:\\n\",arr3)"
   ]
  },
  {
   "cell_type": "code",
   "execution_count": 6,
   "id": "e1d23649",
   "metadata": {},
   "outputs": [
    {
     "name": "stdout",
     "output_type": "stream",
     "text": [
      "Array1 is:\n",
      " [[ 10  20  30]\n",
      " [150 250 350]]\n",
      "Array2 is:\n",
      " [[ 5 10 15]\n",
      " [ 4  8 12]]\n",
      "Append Elements in 2D Array3 Row-wise:\n",
      " [[ 10  20  30   5  10  15]\n",
      " [150 250 350   4   8  12]]\n"
     ]
    }
   ],
   "source": [
    "arr1 = np.array([[10,20,30],[150,250,350]])\n",
    "arr2 = np.array([[5,10,15],[4,8,12]])\n",
    "print('Array1 is:\\n',arr1)\n",
    "print('Array2 is:\\n',arr2)\n",
    "arr3 = np.append(arr1,arr2,axis=1)\n",
    "print('Append Elements in 2D Array3 Row-wise:\\n',arr3)"
   ]
  },
  {
   "cell_type": "code",
   "execution_count": 8,
   "id": "acc72861",
   "metadata": {},
   "outputs": [
    {
     "name": "stdout",
     "output_type": "stream",
     "text": [
      "Array1 is:\n",
      " [[ 10  20  30]\n",
      " [150 250 350]]\n",
      "Array2 is:\n",
      " [[ 5 10 15]\n",
      " [ 4  8 12]]\n",
      "Append Elements in 2D Array3 Column-wise:\n",
      " [[ 10  20  30]\n",
      " [150 250 350]\n",
      " [  5  10  15]\n",
      " [  4   8  12]]\n"
     ]
    }
   ],
   "source": [
    "arr1 = np.array([[10,20,30],[150,250,350]])\n",
    "arr2 = np.array([[5,10,15],[4,8,12]])\n",
    "print('Array1 is:\\n',arr1)\n",
    "print('Array2 is:\\n',arr2)\n",
    "arr3 = np.append(arr1,arr2,axis=0)\n",
    "print('Append Elements in 2D Array3 Column-wise:\\n',arr3)"
   ]
  },
  {
   "cell_type": "markdown",
   "id": "b8b1d68c",
   "metadata": {},
   "source": [
    "### numpy.conacatenate() function"
   ]
  },
  {
   "cell_type": "markdown",
   "id": "a9a20ee8",
   "metadata": {},
   "source": [
    "#### Join a sequence of arrays along an existing axis. here axis=0 hence will concate columnwise."
   ]
  },
  {
   "cell_type": "code",
   "execution_count": 12,
   "id": "505cd410",
   "metadata": {},
   "outputs": [
    {
     "data": {
      "text/plain": [
       "array([[ 10,  20,  30],\n",
       "       [150, 250, 350]])"
      ]
     },
     "execution_count": 12,
     "metadata": {},
     "output_type": "execute_result"
    }
   ],
   "source": [
    "arr1"
   ]
  },
  {
   "cell_type": "code",
   "execution_count": 13,
   "id": "122c7346",
   "metadata": {},
   "outputs": [
    {
     "data": {
      "text/plain": [
       "array([[ 5, 10, 15],\n",
       "       [ 4,  8, 12]])"
      ]
     },
     "execution_count": 13,
     "metadata": {},
     "output_type": "execute_result"
    }
   ],
   "source": [
    "arr2"
   ]
  },
  {
   "cell_type": "code",
   "execution_count": 15,
   "id": "ab6d263b",
   "metadata": {},
   "outputs": [
    {
     "name": "stdout",
     "output_type": "stream",
     "text": [
      "Array3 is:\n",
      " [[ 10  20  30]\n",
      " [150 250 350]\n",
      " [  5  10  15]\n",
      " [  4   8  12]]\n"
     ]
    }
   ],
   "source": [
    "arr3 = np.concatenate((arr1,arr2))\n",
    "print('Array3 is:\\n',arr3)"
   ]
  },
  {
   "cell_type": "markdown",
   "id": "2daf120d",
   "metadata": {},
   "source": [
    "#### Row-wise concatenate"
   ]
  },
  {
   "cell_type": "code",
   "execution_count": 25,
   "id": "957dad2f",
   "metadata": {},
   "outputs": [
    {
     "data": {
      "text/plain": [
       "array([10, 20, 30, 25, 50, 75])"
      ]
     },
     "execution_count": 25,
     "metadata": {},
     "output_type": "execute_result"
    }
   ],
   "source": [
    "np.concatenate((arr1,arr2),axis=0)"
   ]
  },
  {
   "cell_type": "markdown",
   "id": "80c61ecc",
   "metadata": {},
   "source": [
    "## Conditional Selection"
   ]
  },
  {
   "cell_type": "code",
   "execution_count": 32,
   "id": "2f60f06c",
   "metadata": {},
   "outputs": [
    {
     "name": "stdout",
     "output_type": "stream",
     "text": [
      "[[ 2  3  4  5]\n",
      " [ 6  7  8  9]\n",
      " [10 11 12 13]\n",
      " [14 15 16 17]\n",
      " [18 19 20 21]\n",
      " [22 23 24 25]\n",
      " [26 27 28 29]]\n"
     ]
    }
   ],
   "source": [
    "a = np.arange(2,30).reshape(7,4)\n",
    "print(a)"
   ]
  },
  {
   "cell_type": "code",
   "execution_count": 39,
   "id": "ccb0d1ea",
   "metadata": {},
   "outputs": [
    {
     "data": {
      "text/plain": [
       "array([[False, False, False, False],\n",
       "       [False, False, False, False],\n",
       "       [False, False, False, False],\n",
       "       [False, False,  True,  True],\n",
       "       [ True,  True,  True,  True],\n",
       "       [ True,  True,  True,  True],\n",
       "       [ True,  True,  True,  True]])"
      ]
     },
     "execution_count": 39,
     "metadata": {},
     "output_type": "execute_result"
    }
   ],
   "source": [
    "# select a number greater than 15\n",
    "a > 15"
   ]
  },
  {
   "cell_type": "markdown",
   "id": "25c70d09",
   "metadata": {},
   "source": [
    "#### bool array acts as an index"
   ]
  },
  {
   "cell_type": "code",
   "execution_count": 40,
   "id": "37f624b4",
   "metadata": {},
   "outputs": [
    {
     "name": "stdout",
     "output_type": "stream",
     "text": [
      "[16 17 18 19 20 21 22 23 24 25 26 27 28 29]\n"
     ]
    }
   ],
   "source": [
    "print(a[a>15])"
   ]
  },
  {
   "cell_type": "code",
   "execution_count": 42,
   "id": "ee3e5295",
   "metadata": {},
   "outputs": [
    {
     "data": {
      "text/plain": [
       "array([16, 17, 18, 19, 20, 21, 22, 23, 24, 25, 26, 27, 28, 29])"
      ]
     },
     "execution_count": 42,
     "metadata": {},
     "output_type": "execute_result"
    }
   ],
   "source": [
    "a[np.array(a>15)]"
   ]
  },
  {
   "cell_type": "markdown",
   "id": "54e7c0db",
   "metadata": {},
   "source": [
    "#### array supports bool indexing"
   ]
  },
  {
   "cell_type": "markdown",
   "id": "defd706f",
   "metadata": {},
   "source": [
    "## np.where()"
   ]
  },
  {
   "cell_type": "markdown",
   "id": "174bf792",
   "metadata": {},
   "source": [
    "#### Python NumPy module contains many built-in functions to create and manipulate array elments altogether.\n",
    "#### The numpy.where() function is udes to return the array elements based on certain conditions.\n",
    "#### Syntax: numpy.where(condition,a,b)\n",
    "     #condition: The manipulation condition to be applied on the array needs to       be mentioned.\n",
    "     # a: If the conditon is met i.e.the condition turns out to be True, then          the function yields a.\n",
    "     #b: If the condition is not met,this value is returned by the function."
   ]
  },
  {
   "cell_type": "code",
   "execution_count": 2,
   "id": "df08e233",
   "metadata": {},
   "outputs": [
    {
     "name": "stdout",
     "output_type": "stream",
     "text": [
      "Array is:\n",
      " [[10 20 30]\n",
      " [40 50 60]]\n",
      "Array gives Boolean output:\n",
      " [[ True False False]\n",
      " [False False False]]\n"
     ]
    }
   ],
   "source": [
    "import numpy as np\n",
    "arr = np.array([[10,20,30],[40,50,60]])\n",
    "print('Array is:\\n',arr)\n",
    "print('Array gives Boolean output:\\n',np.where(arr<20,True,False))"
   ]
  },
  {
   "cell_type": "markdown",
   "id": "bdf919db",
   "metadata": {},
   "source": [
    "    # In the above example, for all the array elements whose data values<20, those data values are replaced by True.And, all the array elements whose data values is >20 i.e.the values are replaced by False."
   ]
  },
  {
   "cell_type": "code",
   "execution_count": 7,
   "id": "700895e4",
   "metadata": {},
   "outputs": [
    {
     "name": "stdout",
     "output_type": "stream",
     "text": [
      "Array is:\n",
      " [[10 20 30]\n",
      " [40 50 60]]\n",
      "Array1 Elements less than 20:\n",
      " [10]\n"
     ]
    }
   ],
   "source": [
    "import numpy as np\n",
    "arr = np.array([[10,20,30],[40,50,60]])\n",
    "print('Array is:\\n',arr)\n",
    "arr1 = np.where(arr<20)\n",
    "print('Array1 Elements less than 20:\\n',arr[arr1])"
   ]
  },
  {
   "cell_type": "markdown",
   "id": "4ad87079",
   "metadata": {},
   "source": [
    "### numpy.where() function with Multiple conditions\n",
    "    #Multiple condition can be applied along with the numpy.where() function to manipulate the array elements against multiple conditions.\n",
    "    #Syntax: \n",
    "            numpy.where((condition1) & (condition2))\n",
    "                                    OR\n",
    "            numpy.where((condition1) | (condition2))\n",
    "            \n",
    "                                    "
   ]
  },
  {
   "cell_type": "code",
   "execution_count": 8,
   "id": "c43227b4",
   "metadata": {},
   "outputs": [
    {
     "name": "stdout",
     "output_type": "stream",
     "text": [
      "Data of Array:\n",
      " [[10 20 30]\n",
      " [40 50 60]\n",
      " [ 0  1  2]]\n",
      "(array([0, 0, 2, 2, 2], dtype=int64), array([0, 2, 0, 1, 2], dtype=int64))\n",
      "\n",
      "[10 30  0  1  2]\n"
     ]
    }
   ],
   "source": [
    "import numpy as np\n",
    "data = np.array([[10,20,30],[40,50,60],[0,1,2]])\n",
    "print('Data of Array:\\n',data)\n",
    "data1 = np.where((data!=20)&(data<40)) # Elements whose are less than 40 and not equal to 20\n",
    "print(data1)\n",
    "print()\n",
    "print(data[data1])"
   ]
  },
  {
   "cell_type": "code",
   "execution_count": 11,
   "id": "c44c1e45",
   "metadata": {},
   "outputs": [
    {
     "name": "stdout",
     "output_type": "stream",
     "text": [
      "Data Array is:\n",
      " [[10 20 30]\n",
      " [40 50 60]\n",
      " [ 0  1  2]]\n",
      "(array([0, 1, 1, 2, 2, 2], dtype=int64), array([0, 1, 2, 0, 1, 2], dtype=int64))\n",
      "\n",
      "[10 50 60  0  1  2]\n"
     ]
    }
   ],
   "source": [
    "data = np.array([[10,20,30],[40,50,60],[0,1,2]])\n",
    "print('Data Array is:\\n',data)\n",
    "data1 = np.where((data<20)|(data>40)) #Elements whose less than 20 and greater than 40\n",
    "print(data1)\n",
    "print()\n",
    "print(data[data1])"
   ]
  },
  {
   "cell_type": "markdown",
   "id": "491626c6",
   "metadata": {},
   "source": [
    "### Replacing the array values using numpy.where() function\n",
    "    #Using numpy.where() function on fullfillment of certain condition.\n",
    "    #Syntax: numpy.where(condition,element1,element2)"
   ]
  },
  {
   "cell_type": "code",
   "execution_count": 14,
   "id": "1eb03866",
   "metadata": {},
   "outputs": [
    {
     "name": "stdout",
     "output_type": "stream",
     "text": [
      "Data before manipulation:\n",
      " [[ 0.35655235  0.84917988 -0.66932854]\n",
      " [ 0.74400938 -0.635384   -0.57455891]]\n",
      "\n",
      "Data after manipulation:\n",
      " [[0.35655235 0.84917988 0.        ]\n",
      " [0.74400938 0.         0.        ]]\n"
     ]
    }
   ],
   "source": [
    "data = np.random.randn(2,3)\n",
    "print('Data before manipulation:\\n',data)\n",
    "print()\n",
    "data1 = np.where((data>0),data,0)\n",
    "print('Data after manipulation:\\n',data1)"
   ]
  },
  {
   "cell_type": "code",
   "execution_count": 16,
   "id": "31c5fe78",
   "metadata": {},
   "outputs": [
    {
     "name": "stdout",
     "output_type": "stream",
     "text": [
      "Array of a is:\n",
      " [[ 1  2  3  4  5  6]\n",
      " [ 7  8  9 10 11 12]\n",
      " [13 14 15 16 17 18]\n",
      " [19 20 21 22 23 24]]\n",
      "Elements greter than 15 is:\n",
      " (array([2, 2, 2, 3, 3, 3, 3, 3, 3], dtype=int64), array([3, 4, 5, 0, 1, 2, 3, 4, 5], dtype=int64))\n",
      "Elements greter than 15 is:\n",
      " [16 17 18 19 20 21 22 23 24]\n",
      "\n"
     ]
    },
    {
     "data": {
      "text/plain": [
       "(array([2, 2, 2, 3, 3, 3, 3, 3, 3], dtype=int64),\n",
       " array([3, 4, 5, 0, 1, 2, 3, 4, 5], dtype=int64))"
      ]
     },
     "execution_count": 16,
     "metadata": {},
     "output_type": "execute_result"
    }
   ],
   "source": [
    "a = np.arange(1,25).reshape(4,6)\n",
    "print('Array of a is:\\n',a)\n",
    "b = np.where(a>15)\n",
    "print('Elements greter than 15 is:\\n',b)\n",
    "print('Elements greter than 15 is:\\n',a[b])\n",
    "print()\n",
    "np.where(a>15)"
   ]
  },
  {
   "cell_type": "code",
   "execution_count": 22,
   "id": "baea0a74",
   "metadata": {},
   "outputs": [
    {
     "name": "stdout",
     "output_type": "stream",
     "text": [
      "Array of a is:\n",
      " [[ 1  2  3  4]\n",
      " [ 5  6  7  8]\n",
      " [ 9 10 11 12]\n",
      " [13 14 15 16]\n",
      " [17 18 19 20]\n",
      " [21 22 23 24]]\n",
      "\n",
      "\n"
     ]
    }
   ],
   "source": [
    "a = np.arange(1,25).reshape(6,4)\n",
    "print('Array of a is:\\n',a)\n",
    "print()"
   ]
  },
  {
   "cell_type": "code",
   "execution_count": 23,
   "id": "a18b2f32",
   "metadata": {},
   "outputs": [
    {
     "data": {
      "text/plain": [
       "(array([0, 0, 0, 0, 1, 1, 1, 1, 2, 2, 2, 2, 3, 3], dtype=int64),\n",
       " array([0, 1, 2, 3, 0, 1, 2, 3, 0, 1, 2, 3, 0, 1], dtype=int64))"
      ]
     },
     "execution_count": 23,
     "metadata": {},
     "output_type": "execute_result"
    }
   ],
   "source": [
    "np.where(a<15)"
   ]
  },
  {
   "cell_type": "code",
   "execution_count": 21,
   "id": "8c2fc71a",
   "metadata": {},
   "outputs": [
    {
     "name": "stdout",
     "output_type": "stream",
     "text": [
      "Elements less than 15 is:\n",
      " [ 1  2  3  4  5  6  7  8  9 10 11 12 13 14]\n"
     ]
    }
   ],
   "source": [
    "b = np.where(a<15)\n",
    "print('Elements less than 15 is:\\n',a[b])"
   ]
  },
  {
   "cell_type": "code",
   "execution_count": 24,
   "id": "13bd5445",
   "metadata": {},
   "outputs": [
    {
     "data": {
      "text/plain": [
       "array([[  1,   2,   3,   4],\n",
       "       [  5,   6,   7,   8],\n",
       "       [  9,  10,  11,  12],\n",
       "       [ 13,  14, -15, -16],\n",
       "       [-17, -18, -19, -20],\n",
       "       [-21, -22, -23, -24]])"
      ]
     },
     "execution_count": 24,
     "metadata": {},
     "output_type": "execute_result"
    }
   ],
   "source": [
    "np.where(a<15,a,-a)"
   ]
  },
  {
   "cell_type": "code",
   "execution_count": 26,
   "id": "535b9a29",
   "metadata": {},
   "outputs": [
    {
     "name": "stdout",
     "output_type": "stream",
     "text": [
      "Elements are less than 15 & replace by -:\n",
      " [[  1   2   3   4]\n",
      " [  5   6   7   8]\n",
      " [  9  10  11  12]\n",
      " [ 13  14 -15 -16]\n",
      " [-17 -18 -19 -20]\n",
      " [-21 -22 -23 -24]]\n"
     ]
    }
   ],
   "source": [
    "b = np.where(a<15,a,-a)\n",
    "print('Elements are less than 15 & replace by -:\\n',b)"
   ]
  },
  {
   "cell_type": "code",
   "execution_count": 27,
   "id": "1ac1d927",
   "metadata": {},
   "outputs": [
    {
     "data": {
      "text/plain": [
       "array([[ 1,  2,  3,  4],\n",
       "       [ 5,  6,  7,  8],\n",
       "       [ 9, 10, 11, 12],\n",
       "       [13, 14,  0,  0],\n",
       "       [ 0,  0,  0,  0],\n",
       "       [ 0,  0,  0,  0]])"
      ]
     },
     "execution_count": 27,
     "metadata": {},
     "output_type": "execute_result"
    }
   ],
   "source": [
    "np.where(a<15,a,0)"
   ]
  },
  {
   "cell_type": "code",
   "execution_count": 28,
   "id": "15d280df",
   "metadata": {},
   "outputs": [
    {
     "name": "stdout",
     "output_type": "stream",
     "text": [
      "Elements are less than 15 and replace by 0:\n",
      " [[ 1  2  3  4]\n",
      " [ 5  6  7  8]\n",
      " [ 9 10 11 12]\n",
      " [13 14  0  0]\n",
      " [ 0  0  0  0]\n",
      " [ 0  0  0  0]]\n"
     ]
    }
   ],
   "source": [
    "b = np.where(a<15,a,0)\n",
    "print('Elements are less than 15 and replace by 0:\\n',b)"
   ]
  },
  {
   "cell_type": "code",
   "execution_count": 30,
   "id": "ebb025a6",
   "metadata": {},
   "outputs": [
    {
     "name": "stdout",
     "output_type": "stream",
     "text": [
      "Array of Salary is:\n",
      " [25 65 75 20 15]\n",
      "New_salary:\n",
      " [26000 65000 75000 21000 16000]\n"
     ]
    }
   ],
   "source": [
    "salary = np.array([25,65,75,20,15])\n",
    "print('Array of Salary is:\\n',salary)\n",
    "new_salary = np.where(salary<30,salary+1,salary)*1000\n",
    "#where salary is <30 give 1k bonus\n",
    "#where salary is not <30 keep as it is\n",
    "print('New_salary:\\n',new_salary)"
   ]
  },
  {
   "cell_type": "code",
   "execution_count": 31,
   "id": "6b79acdd",
   "metadata": {},
   "outputs": [
    {
     "data": {
      "text/plain": [
       "array([[ 1,  2,  3,  4],\n",
       "       [ 5,  6,  7,  8],\n",
       "       [ 9, 10, 11, 12],\n",
       "       [13, 14, 15, 16],\n",
       "       [17, 18, 19, 20],\n",
       "       [21, 22, 23, 24]])"
      ]
     },
     "execution_count": 31,
     "metadata": {},
     "output_type": "execute_result"
    }
   ],
   "source": [
    "a"
   ]
  },
  {
   "cell_type": "code",
   "execution_count": 33,
   "id": "353e1c89",
   "metadata": {},
   "outputs": [
    {
     "data": {
      "text/plain": [
       "(array([0, 0, 1, 1, 2, 2, 3, 3, 4, 4, 5, 5], dtype=int64),\n",
       " array([1, 3, 1, 3, 1, 3, 1, 3, 1, 3, 1, 3], dtype=int64))"
      ]
     },
     "execution_count": 33,
     "metadata": {},
     "output_type": "execute_result"
    }
   ],
   "source": [
    "np.where(a%2==0)"
   ]
  },
  {
   "cell_type": "code",
   "execution_count": 35,
   "id": "ea8d23ed",
   "metadata": {},
   "outputs": [
    {
     "data": {
      "text/plain": [
       "array([ 2,  4,  6,  8, 10, 12, 14, 16, 18, 20, 22, 24])"
      ]
     },
     "execution_count": 35,
     "metadata": {},
     "output_type": "execute_result"
    }
   ],
   "source": [
    "a[a%2==0]"
   ]
  },
  {
   "cell_type": "markdown",
   "id": "380ef5c7",
   "metadata": {},
   "source": [
    "## Scalar math"
   ]
  },
  {
   "cell_type": "code",
   "execution_count": 36,
   "id": "22e76de6",
   "metadata": {},
   "outputs": [
    {
     "data": {
      "text/plain": [
       "array([[ 1,  2,  3,  4],\n",
       "       [ 5,  6,  7,  8],\n",
       "       [ 9, 10, 11, 12],\n",
       "       [13, 14, 15, 16],\n",
       "       [17, 18, 19, 20],\n",
       "       [21, 22, 23, 24]])"
      ]
     },
     "execution_count": 36,
     "metadata": {},
     "output_type": "execute_result"
    }
   ],
   "source": [
    "a"
   ]
  },
  {
   "cell_type": "code",
   "execution_count": 39,
   "id": "797dfbe8",
   "metadata": {},
   "outputs": [
    {
     "data": {
      "text/plain": [
       "array([[11, 12, 13, 14],\n",
       "       [15, 16, 17, 18],\n",
       "       [19, 20, 21, 22],\n",
       "       [23, 24, 25, 26],\n",
       "       [27, 28, 29, 30],\n",
       "       [31, 32, 33, 34]])"
      ]
     },
     "execution_count": 39,
     "metadata": {},
     "output_type": "execute_result"
    }
   ],
   "source": [
    "a+10 # Added 10 value in array a elements"
   ]
  },
  {
   "cell_type": "code",
   "execution_count": 38,
   "id": "8b812fc7",
   "metadata": {},
   "outputs": [
    {
     "data": {
      "text/plain": [
       "array([[ 1,  2,  3,  4],\n",
       "       [ 5,  6,  7,  8],\n",
       "       [ 9, 10, 11, 12],\n",
       "       [13, 14, 15, 16],\n",
       "       [17, 18, 19, 20],\n",
       "       [21, 22, 23, 24]])"
      ]
     },
     "execution_count": 38,
     "metadata": {},
     "output_type": "execute_result"
    }
   ],
   "source": [
    "a # a is unchanged"
   ]
  },
  {
   "cell_type": "code",
   "execution_count": 43,
   "id": "f3c00cc2",
   "metadata": {},
   "outputs": [],
   "source": [
    "a+=10 # a is changed"
   ]
  },
  {
   "cell_type": "code",
   "execution_count": 41,
   "id": "82726ace",
   "metadata": {},
   "outputs": [
    {
     "data": {
      "text/plain": [
       "array([[11, 12, 13, 14],\n",
       "       [15, 16, 17, 18],\n",
       "       [19, 20, 21, 22],\n",
       "       [23, 24, 25, 26],\n",
       "       [27, 28, 29, 30],\n",
       "       [31, 32, 33, 34]])"
      ]
     },
     "execution_count": 41,
     "metadata": {},
     "output_type": "execute_result"
    }
   ],
   "source": [
    "a"
   ]
  },
  {
   "cell_type": "code",
   "execution_count": 42,
   "id": "f592ffdf",
   "metadata": {},
   "outputs": [
    {
     "data": {
      "text/plain": [
       "array([[11, 12, 13, 14],\n",
       "       [15, 16, 17, 18],\n",
       "       [19, 20, 21, 22],\n",
       "       [23, 24, 25, 26],\n",
       "       [27, 28, 29, 30],\n",
       "       [31, 32, 33, 34]])"
      ]
     },
     "execution_count": 42,
     "metadata": {},
     "output_type": "execute_result"
    }
   ],
   "source": [
    "a"
   ]
  },
  {
   "cell_type": "code",
   "execution_count": 44,
   "id": "0bd0c766",
   "metadata": {},
   "outputs": [
    {
     "data": {
      "text/plain": [
       "array([[ 441,  484,  529,  576],\n",
       "       [ 625,  676,  729,  784],\n",
       "       [ 841,  900,  961, 1024],\n",
       "       [1089, 1156, 1225, 1296],\n",
       "       [1369, 1444, 1521, 1600],\n",
       "       [1681, 1764, 1849, 1936]], dtype=int32)"
      ]
     },
     "execution_count": 44,
     "metadata": {},
     "output_type": "execute_result"
    }
   ],
   "source": [
    "a**2"
   ]
  },
  {
   "cell_type": "code",
   "execution_count": 47,
   "id": "4b942167",
   "metadata": {},
   "outputs": [],
   "source": [
    "a**=2"
   ]
  },
  {
   "cell_type": "code",
   "execution_count": 48,
   "id": "8b2e2f8d",
   "metadata": {},
   "outputs": [
    {
     "data": {
      "text/plain": [
       "array([[ 194481,  234256,  279841,  331776],\n",
       "       [ 390625,  456976,  531441,  614656],\n",
       "       [ 707281,  810000,  923521, 1048576],\n",
       "       [1185921, 1336336, 1500625, 1679616],\n",
       "       [1874161, 2085136, 2313441, 2560000],\n",
       "       [2825761, 3111696, 3418801, 3748096]])"
      ]
     },
     "execution_count": 48,
     "metadata": {},
     "output_type": "execute_result"
    }
   ],
   "source": [
    "a"
   ]
  },
  {
   "cell_type": "markdown",
   "id": "52c62e44",
   "metadata": {},
   "source": [
    "## Vector Math"
   ]
  },
  {
   "cell_type": "code",
   "execution_count": 50,
   "id": "48d503e5",
   "metadata": {},
   "outputs": [
    {
     "name": "stdout",
     "output_type": "stream",
     "text": [
      "x Array is: [[1 2]\n",
      " [3 4]]\n",
      "y Array is: [[1 1]\n",
      " [2 1]]\n",
      "Addition of x & y array is:\n",
      " [[2 3]\n",
      " [5 5]]\n"
     ]
    }
   ],
   "source": [
    "x = np.array([[1,2],[3,4]])\n",
    "y = np.array([[1,1],[2,1]])\n",
    "print('x Array is:',x)\n",
    "print('y Array is:',y)\n",
    "z = x + y # Elementwise addition\n",
    "print('Addition of x & y array is:\\n',z)"
   ]
  },
  {
   "cell_type": "code",
   "execution_count": 51,
   "id": "22bb1b4b",
   "metadata": {},
   "outputs": [],
   "source": [
    "z = x & y"
   ]
  },
  {
   "cell_type": "code",
   "execution_count": 52,
   "id": "0f0e88a5",
   "metadata": {},
   "outputs": [
    {
     "data": {
      "text/plain": [
       "array([[1, 0],\n",
       "       [2, 0]], dtype=int32)"
      ]
     },
     "execution_count": 52,
     "metadata": {},
     "output_type": "execute_result"
    }
   ],
   "source": [
    "z"
   ]
  },
  {
   "cell_type": "code",
   "execution_count": 53,
   "id": "aab4c0a9",
   "metadata": {},
   "outputs": [
    {
     "data": {
      "text/plain": [
       "40"
      ]
     },
     "execution_count": 53,
     "metadata": {},
     "output_type": "execute_result"
    }
   ],
   "source": [
    "12 and 40"
   ]
  },
  {
   "cell_type": "code",
   "execution_count": 54,
   "id": "689af925",
   "metadata": {},
   "outputs": [
    {
     "data": {
      "text/plain": [
       "array([[2, 3],\n",
       "       [5, 5]])"
      ]
     },
     "execution_count": 54,
     "metadata": {},
     "output_type": "execute_result"
    }
   ],
   "source": [
    "x + y"
   ]
  },
  {
   "cell_type": "code",
   "execution_count": 55,
   "id": "274004af",
   "metadata": {},
   "outputs": [
    {
     "data": {
      "text/plain": [
       "array([[2, 3],\n",
       "       [5, 5]])"
      ]
     },
     "execution_count": 55,
     "metadata": {},
     "output_type": "execute_result"
    }
   ],
   "source": [
    "np.add(x,y)"
   ]
  },
  {
   "cell_type": "code",
   "execution_count": 57,
   "id": "b8013508",
   "metadata": {},
   "outputs": [
    {
     "data": {
      "text/plain": [
       "array([[0, 1],\n",
       "       [1, 3]])"
      ]
     },
     "execution_count": 57,
     "metadata": {},
     "output_type": "execute_result"
    }
   ],
   "source": [
    "np.subtract(x,y)"
   ]
  },
  {
   "cell_type": "code",
   "execution_count": 59,
   "id": "32beba79",
   "metadata": {},
   "outputs": [
    {
     "data": {
      "text/plain": [
       "array([[1, 2],\n",
       "       [6, 4]])"
      ]
     },
     "execution_count": 59,
     "metadata": {},
     "output_type": "execute_result"
    }
   ],
   "source": [
    "np.multiply(x,y)"
   ]
  },
  {
   "cell_type": "code",
   "execution_count": 60,
   "id": "47305258",
   "metadata": {},
   "outputs": [
    {
     "data": {
      "text/plain": [
       "array([[1. , 2. ],\n",
       "       [1.5, 4. ]])"
      ]
     },
     "execution_count": 60,
     "metadata": {},
     "output_type": "execute_result"
    }
   ],
   "source": [
    "np.divide(x,y)"
   ]
  },
  {
   "cell_type": "code",
   "execution_count": 61,
   "id": "8b9e8ca6",
   "metadata": {},
   "outputs": [
    {
     "data": {
      "text/plain": [
       "array([[1, 2],\n",
       "       [9, 4]], dtype=int32)"
      ]
     },
     "execution_count": 61,
     "metadata": {},
     "output_type": "execute_result"
    }
   ],
   "source": [
    "np.power(x,y)"
   ]
  },
  {
   "cell_type": "code",
   "execution_count": 62,
   "id": "8a797a15",
   "metadata": {},
   "outputs": [
    {
     "data": {
      "text/plain": [
       "array([[ 194481,  234256,  279841,  331776],\n",
       "       [ 390625,  456976,  531441,  614656],\n",
       "       [ 707281,  810000,  923521, 1048576],\n",
       "       [1185921, 1336336, 1500625, 1679616],\n",
       "       [1874161, 2085136, 2313441, 2560000],\n",
       "       [2825761, 3111696, 3418801, 3748096]])"
      ]
     },
     "execution_count": 62,
     "metadata": {},
     "output_type": "execute_result"
    }
   ],
   "source": [
    "a"
   ]
  },
  {
   "cell_type": "code",
   "execution_count": 64,
   "id": "f6e34ab9",
   "metadata": {},
   "outputs": [
    {
     "data": {
      "text/plain": [
       "array([[ -194482,  -234257,  -279842,  -331777],\n",
       "       [ -390626,  -456977,  -531442,  -614657],\n",
       "       [ -707282,  -810001,  -923522, -1048577],\n",
       "       [-1185922, -1336337, -1500626, -1679617],\n",
       "       [-1874162, -2085137, -2313442, -2560001],\n",
       "       [-2825762, -3111697, -3418802, -3748097]], dtype=int32)"
      ]
     },
     "execution_count": 64,
     "metadata": {},
     "output_type": "execute_result"
    }
   ],
   "source": [
    "~a # provide negative sign"
   ]
  },
  {
   "cell_type": "code",
   "execution_count": 65,
   "id": "a33c93c5",
   "metadata": {},
   "outputs": [
    {
     "data": {
      "text/plain": [
       "array([[-0.64938811,  0.00219242,  0.47308474, -0.96795625],\n",
       "       [-0.58958695, -0.06734017,  0.23581702, -0.25295416],\n",
       "       [ 0.99409467, -0.02452983, -0.41323633,  0.33049314],\n",
       "       [ 0.92807   ,  0.12513593, -0.65432095,  0.92720115],\n",
       "       [-0.07971149, -0.95377357, -0.42976307, -0.82465462],\n",
       "       [-0.8728142 , -0.95144548,  0.47401299,  0.03507158]])"
      ]
     },
     "execution_count": 65,
     "metadata": {},
     "output_type": "execute_result"
    }
   ],
   "source": [
    "np.sin(a)"
   ]
  },
  {
   "cell_type": "code",
   "execution_count": 66,
   "id": "ef92819e",
   "metadata": {},
   "outputs": [
    {
     "data": {
      "text/plain": [
       "array([[12.17808975, 12.36416981, 12.54197686, 12.71221532],\n",
       "       [12.8755033 , 13.03238615, 13.18334746, 13.32881804],\n",
       "       [13.46918332, 13.60478953, 13.73594882, 13.86294361],\n",
       "       [13.98603025, 14.1054421 , 14.22139225, 14.33407575],\n",
       "       [14.44367165, 14.55034464, 14.65424658, 14.75551782],\n",
       "       [14.85428827, 14.95067847, 15.04480046, 15.13675854]])"
      ]
     },
     "execution_count": 66,
     "metadata": {},
     "output_type": "execute_result"
    }
   ],
   "source": [
    "np.log(a)"
   ]
  },
  {
   "cell_type": "code",
   "execution_count": 67,
   "id": "9066c688",
   "metadata": {},
   "outputs": [
    {
     "data": {
      "text/plain": [
       "array([[1, 2],\n",
       "       [3, 4]])"
      ]
     },
     "execution_count": 67,
     "metadata": {},
     "output_type": "execute_result"
    }
   ],
   "source": [
    "x"
   ]
  },
  {
   "cell_type": "code",
   "execution_count": 68,
   "id": "c689d5d0",
   "metadata": {},
   "outputs": [
    {
     "data": {
      "text/plain": [
       "array([[11, 12],\n",
       "       [13, 14]])"
      ]
     },
     "execution_count": 68,
     "metadata": {},
     "output_type": "execute_result"
    }
   ],
   "source": [
    "np.add(x,10)"
   ]
  },
  {
   "cell_type": "markdown",
   "id": "551519fe",
   "metadata": {},
   "source": [
    "## How to Delete Element?"
   ]
  },
  {
   "cell_type": "markdown",
   "id": "42dfd87a",
   "metadata": {},
   "source": [
    "### numpy.ravel()\n",
    "#### The numpy.ravel() functions returns contiguous faltterned(1D array with all the input-array elements and with the same type as it). A copy is made only if needed.\n",
    "#### Syntax: numpy.ravel(array,order = 'C')\n",
    "#### numpy.ravel() is converted multidimensional array to 1D array."
   ]
  },
  {
   "cell_type": "code",
   "execution_count": 72,
   "id": "8441af38",
   "metadata": {},
   "outputs": [
    {
     "name": "stdout",
     "output_type": "stream",
     "text": [
      "Original Array:\n",
      " [[ 0  1  2  3  4]\n",
      " [ 5  6  7  8  9]\n",
      " [10 11 12 13 14]]\n",
      "Dimension of Original Array is:\n",
      " 2\n",
      "\n",
      "ravel(): [ 0  1  2  3  4  5  6  7  8  9 10 11 12 13 14]\n",
      "Dimension of ravel Array is:\n",
      " 1\n"
     ]
    }
   ],
   "source": [
    "import numpy as np\n",
    "array = np.arange(15).reshape(3,5)\n",
    "print('Original Array:\\n',array)\n",
    "print('Dimension of Original Array is:\\n',array.ndim)\n",
    "print('\\nravel():',array.ravel())\n",
    "print('Dimension of ravel Array is:\\n',array.ravel().ndim)"
   ]
  },
  {
   "cell_type": "code",
   "execution_count": 75,
   "id": "fdd53505",
   "metadata": {},
   "outputs": [
    {
     "data": {
      "text/plain": [
       "array([[ 0,  1,  2,  3,  4],\n",
       "       [ 5,  6,  7,  8,  9],\n",
       "       [10, 11, 12, 13, 14]])"
      ]
     },
     "execution_count": 75,
     "metadata": {},
     "output_type": "execute_result"
    }
   ],
   "source": [
    "array # array is not changed"
   ]
  },
  {
   "cell_type": "code",
   "execution_count": 76,
   "id": "b556d7ea",
   "metadata": {},
   "outputs": [
    {
     "name": "stdout",
     "output_type": "stream",
     "text": [
      "\n",
      "reshape_array is:\n",
      " [ 0  1  2  3  4  5  6  7  8  9 10 11 12 13 14]\n"
     ]
    }
   ],
   "source": [
    "print('\\nreshape_array is:\\n',array.reshape(-1))"
   ]
  },
  {
   "cell_type": "markdown",
   "id": "6e4f96d9",
   "metadata": {},
   "source": [
    "### numpy.delete()\n",
    "#### The numpy.delete() function returns a new array with the deletion of sub-arrays along with the mentioned axis.\n",
    "#### Syntax: np.delete(array,object,axis=None)"
   ]
  },
  {
   "cell_type": "code",
   "execution_count": 77,
   "id": "861b5064",
   "metadata": {},
   "outputs": [
    {
     "data": {
      "text/plain": [
       "array([[ 194481,  234256,  279841,  331776],\n",
       "       [ 390625,  456976,  531441,  614656],\n",
       "       [ 707281,  810000,  923521, 1048576],\n",
       "       [1185921, 1336336, 1500625, 1679616],\n",
       "       [1874161, 2085136, 2313441, 2560000],\n",
       "       [2825761, 3111696, 3418801, 3748096]])"
      ]
     },
     "execution_count": 77,
     "metadata": {},
     "output_type": "execute_result"
    }
   ],
   "source": [
    "a"
   ]
  },
  {
   "cell_type": "code",
   "execution_count": 78,
   "id": "8118dd75",
   "metadata": {},
   "outputs": [
    {
     "data": {
      "text/plain": [
       "array([ 194481,  234256,  331776,  390625,  456976,  531441,  614656,\n",
       "        707281,  810000,  923521, 1048576, 1185921, 1336336, 1500625,\n",
       "       1679616, 1874161, 2085136, 2313441, 2560000, 2825761, 3111696,\n",
       "       3418801, 3748096])"
      ]
     },
     "execution_count": 78,
     "metadata": {},
     "output_type": "execute_result"
    }
   ],
   "source": [
    "np.delete(a,2)"
   ]
  },
  {
   "cell_type": "markdown",
   "id": "05bd2b44",
   "metadata": {},
   "source": [
    "### Delete rowwise"
   ]
  },
  {
   "cell_type": "code",
   "execution_count": 79,
   "id": "89b0e062",
   "metadata": {},
   "outputs": [
    {
     "data": {
      "text/plain": [
       "array([[ 194481,  234256,  279841,  331776],\n",
       "       [ 390625,  456976,  531441,  614656],\n",
       "       [ 707281,  810000,  923521, 1048576],\n",
       "       [1185921, 1336336, 1500625, 1679616],\n",
       "       [1874161, 2085136, 2313441, 2560000],\n",
       "       [2825761, 3111696, 3418801, 3748096]])"
      ]
     },
     "execution_count": 79,
     "metadata": {},
     "output_type": "execute_result"
    }
   ],
   "source": [
    "a"
   ]
  },
  {
   "cell_type": "code",
   "execution_count": 80,
   "id": "1e43511a",
   "metadata": {},
   "outputs": [
    {
     "data": {
      "text/plain": [
       "array([194481, 234256, 279841, 331776])"
      ]
     },
     "execution_count": 80,
     "metadata": {},
     "output_type": "execute_result"
    }
   ],
   "source": [
    "a[0] # Delete row"
   ]
  },
  {
   "cell_type": "code",
   "execution_count": 88,
   "id": "ab78025a",
   "metadata": {},
   "outputs": [
    {
     "data": {
      "text/plain": [
       "array([[ 390625,  456976,  531441,  614656],\n",
       "       [ 707281,  810000,  923521, 1048576],\n",
       "       [1185921, 1336336, 1500625, 1679616],\n",
       "       [1874161, 2085136, 2313441, 2560000],\n",
       "       [2825761, 3111696, 3418801, 3748096]])"
      ]
     },
     "execution_count": 88,
     "metadata": {},
     "output_type": "execute_result"
    }
   ],
   "source": [
    "np.delete(a,0,axis=0)#axis=1 means row"
   ]
  },
  {
   "cell_type": "markdown",
   "id": "3c2f0c63",
   "metadata": {},
   "source": [
    "### Delete Columnwise "
   ]
  },
  {
   "cell_type": "code",
   "execution_count": 82,
   "id": "5969bb64",
   "metadata": {},
   "outputs": [
    {
     "data": {
      "text/plain": [
       "array([[ 194481,  234256,  279841,  331776],\n",
       "       [ 390625,  456976,  531441,  614656],\n",
       "       [ 707281,  810000,  923521, 1048576],\n",
       "       [1185921, 1336336, 1500625, 1679616],\n",
       "       [1874161, 2085136, 2313441, 2560000],\n",
       "       [2825761, 3111696, 3418801, 3748096]])"
      ]
     },
     "execution_count": 82,
     "metadata": {},
     "output_type": "execute_result"
    }
   ],
   "source": [
    "a"
   ]
  },
  {
   "cell_type": "code",
   "execution_count": 90,
   "id": "9a2bf90f",
   "metadata": {},
   "outputs": [
    {
     "data": {
      "text/plain": [
       "array([ 234256,  456976,  810000, 1336336, 2085136, 3111696])"
      ]
     },
     "execution_count": 90,
     "metadata": {},
     "output_type": "execute_result"
    }
   ],
   "source": [
    "a[:,1]"
   ]
  },
  {
   "cell_type": "code",
   "execution_count": 89,
   "id": "31743111",
   "metadata": {},
   "outputs": [
    {
     "data": {
      "text/plain": [
       "array([[ 194481,  279841,  331776],\n",
       "       [ 390625,  531441,  614656],\n",
       "       [ 707281,  923521, 1048576],\n",
       "       [1185921, 1500625, 1679616],\n",
       "       [1874161, 2313441, 2560000],\n",
       "       [2825761, 3418801, 3748096]])"
      ]
     },
     "execution_count": 89,
     "metadata": {},
     "output_type": "execute_result"
    }
   ],
   "source": [
    "np.delete(a,1,axis=1) # Delete column no.2 as index[1]"
   ]
  },
  {
   "cell_type": "markdown",
   "id": "435700c6",
   "metadata": {},
   "source": [
    "### Spliting NumPy Arrays\n",
    "#### Spliting reverse operation of joining.\n",
    "#### Joining merges multiple arrays into one and splitting breaks one array into multiple array.\n",
    "#### Syntax: np.split()"
   ]
  },
  {
   "cell_type": "code",
   "execution_count": 91,
   "id": "c812b23e",
   "metadata": {},
   "outputs": [
    {
     "data": {
      "text/plain": [
       "array([[ 194481,  234256,  279841,  331776],\n",
       "       [ 390625,  456976,  531441,  614656],\n",
       "       [ 707281,  810000,  923521, 1048576],\n",
       "       [1185921, 1336336, 1500625, 1679616],\n",
       "       [1874161, 2085136, 2313441, 2560000],\n",
       "       [2825761, 3111696, 3418801, 3748096]])"
      ]
     },
     "execution_count": 91,
     "metadata": {},
     "output_type": "execute_result"
    }
   ],
   "source": [
    "a"
   ]
  },
  {
   "cell_type": "code",
   "execution_count": 95,
   "id": "717fdb27",
   "metadata": {},
   "outputs": [
    {
     "data": {
      "text/plain": [
       "(6, 4)"
      ]
     },
     "execution_count": 95,
     "metadata": {},
     "output_type": "execute_result"
    }
   ],
   "source": [
    "a.shape"
   ]
  },
  {
   "cell_type": "code",
   "execution_count": 93,
   "id": "50dfa5af",
   "metadata": {},
   "outputs": [
    {
     "data": {
      "text/plain": [
       "[array([[ 194481,  234256,  279841,  331776],\n",
       "        [ 390625,  456976,  531441,  614656],\n",
       "        [ 707281,  810000,  923521, 1048576]]),\n",
       " array([[1185921, 1336336, 1500625, 1679616],\n",
       "        [1874161, 2085136, 2313441, 2560000],\n",
       "        [2825761, 3111696, 3418801, 3748096]])]"
      ]
     },
     "execution_count": 93,
     "metadata": {},
     "output_type": "execute_result"
    }
   ],
   "source": [
    "np.split(a,2) # split array into multiple sub-array"
   ]
  },
  {
   "cell_type": "code",
   "execution_count": 100,
   "id": "c1868eac",
   "metadata": {},
   "outputs": [
    {
     "data": {
      "text/plain": [
       "[array([[194481, 234256, 279841, 331776],\n",
       "        [390625, 456976, 531441, 614656]]),\n",
       " array([[ 707281,  810000,  923521, 1048576],\n",
       "        [1185921, 1336336, 1500625, 1679616]]),\n",
       " array([[1874161, 2085136, 2313441, 2560000],\n",
       "        [2825761, 3111696, 3418801, 3748096]])]"
      ]
     },
     "execution_count": 100,
     "metadata": {},
     "output_type": "execute_result"
    }
   ],
   "source": [
    "np.split(a,3)"
   ]
  },
  {
   "cell_type": "code",
   "execution_count": 101,
   "id": "1074b454",
   "metadata": {},
   "outputs": [
    {
     "data": {
      "text/plain": [
       "[array([[194481, 234256, 279841, 331776],\n",
       "        [390625, 456976, 531441, 614656]]),\n",
       " array([[ 707281,  810000,  923521, 1048576],\n",
       "        [1185921, 1336336, 1500625, 1679616]]),\n",
       " array([[1874161, 2085136, 2313441, 2560000],\n",
       "        [2825761, 3111696, 3418801, 3748096]])]"
      ]
     },
     "execution_count": 101,
     "metadata": {},
     "output_type": "execute_result"
    }
   ],
   "source": [
    "np.split(a,3,axis=0) # Row-wise split"
   ]
  },
  {
   "cell_type": "code",
   "execution_count": 105,
   "id": "c68990e9",
   "metadata": {},
   "outputs": [
    {
     "data": {
      "text/plain": [
       "[array([[ 194481,  234256],\n",
       "        [ 390625,  456976],\n",
       "        [ 707281,  810000],\n",
       "        [1185921, 1336336],\n",
       "        [1874161, 2085136],\n",
       "        [2825761, 3111696]]),\n",
       " array([[ 279841,  331776],\n",
       "        [ 531441,  614656],\n",
       "        [ 923521, 1048576],\n",
       "        [1500625, 1679616],\n",
       "        [2313441, 2560000],\n",
       "        [3418801, 3748096]])]"
      ]
     },
     "execution_count": 105,
     "metadata": {},
     "output_type": "execute_result"
    }
   ],
   "source": [
    "np.split(a,2,axis=1) # column-wise split"
   ]
  },
  {
   "cell_type": "code",
   "execution_count": 106,
   "id": "70b47f7d",
   "metadata": {},
   "outputs": [
    {
     "data": {
      "text/plain": [
       "array([[ 194481,  234256,  279841,  331776],\n",
       "       [ 390625,  456976,  531441,  614656],\n",
       "       [ 707281,  810000,  923521, 1048576],\n",
       "       [1185921, 1336336, 1500625, 1679616],\n",
       "       [1874161, 2085136, 2313441, 2560000],\n",
       "       [2825761, 3111696, 3418801, 3748096]])"
      ]
     },
     "execution_count": 106,
     "metadata": {},
     "output_type": "execute_result"
    }
   ],
   "source": [
    "a"
   ]
  },
  {
   "cell_type": "code",
   "execution_count": 107,
   "id": "f634dd8a",
   "metadata": {},
   "outputs": [
    {
     "data": {
      "text/plain": [
       "[array([[ 194481,  234256,  279841,  331776],\n",
       "        [ 390625,  456976,  531441,  614656],\n",
       "        [ 707281,  810000,  923521, 1048576]]),\n",
       " array([[1185921, 1336336, 1500625, 1679616],\n",
       "        [1874161, 2085136, 2313441, 2560000],\n",
       "        [2825761, 3111696, 3418801, 3748096]])]"
      ]
     },
     "execution_count": 107,
     "metadata": {},
     "output_type": "execute_result"
    }
   ],
   "source": [
    "np.vsplit(a,2) # Row-wise split"
   ]
  },
  {
   "cell_type": "code",
   "execution_count": 108,
   "id": "7d645aee",
   "metadata": {},
   "outputs": [
    {
     "data": {
      "text/plain": [
       "array([[ 194481,  234256,  279841,  331776],\n",
       "       [ 390625,  456976,  531441,  614656],\n",
       "       [ 707281,  810000,  923521, 1048576],\n",
       "       [1185921, 1336336, 1500625, 1679616],\n",
       "       [1874161, 2085136, 2313441, 2560000],\n",
       "       [2825761, 3111696, 3418801, 3748096]])"
      ]
     },
     "execution_count": 108,
     "metadata": {},
     "output_type": "execute_result"
    }
   ],
   "source": [
    "a"
   ]
  },
  {
   "cell_type": "code",
   "execution_count": 110,
   "id": "8e4cc9cd",
   "metadata": {},
   "outputs": [
    {
     "data": {
      "text/plain": [
       "[array([[ 194481,  234256],\n",
       "        [ 390625,  456976],\n",
       "        [ 707281,  810000],\n",
       "        [1185921, 1336336],\n",
       "        [1874161, 2085136],\n",
       "        [2825761, 3111696]]),\n",
       " array([[ 279841,  331776],\n",
       "        [ 531441,  614656],\n",
       "        [ 923521, 1048576],\n",
       "        [1500625, 1679616],\n",
       "        [2313441, 2560000],\n",
       "        [3418801, 3748096]])]"
      ]
     },
     "execution_count": 110,
     "metadata": {},
     "output_type": "execute_result"
    }
   ],
   "source": [
    "np.hsplit(a,2) # column-wise split"
   ]
  }
 ],
 "metadata": {
  "kernelspec": {
   "display_name": "Python 3 (ipykernel)",
   "language": "python",
   "name": "python3"
  },
  "language_info": {
   "codemirror_mode": {
    "name": "ipython",
    "version": 3
   },
   "file_extension": ".py",
   "mimetype": "text/x-python",
   "name": "python",
   "nbconvert_exporter": "python",
   "pygments_lexer": "ipython3",
   "version": "3.9.6"
  }
 },
 "nbformat": 4,
 "nbformat_minor": 5
}
